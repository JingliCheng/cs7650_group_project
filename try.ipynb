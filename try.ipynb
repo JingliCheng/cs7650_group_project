{
 "cells": [
  {
   "cell_type": "code",
   "execution_count": 17,
   "metadata": {},
   "outputs": [],
   "source": [
    "import json\n",
    "import os\n",
    "import openai\n",
    "from dotenv import load_dotenv\n",
    "\n",
    "load_dotenv()\n",
    "client = openai.OpenAI()"
   ]
  },
  {
   "cell_type": "code",
   "execution_count": 40,
   "metadata": {},
   "outputs": [],
   "source": [
    "a = {\n",
    "    \"section_name\": \"self-check-questions\",\n",
    "    \"section_text\": \"Question: \\n2. \\n\\nIdentify whether the market supply curve will shift right or left or will stay the same for the following:\\nFirms in an industry are required to pay a fine for their carbon dioxide emissions.\\nCompanies are sued for polluting the water in a river.\\nPower plants in a specific city are not required to address the impact of their air quality emissions. \\nCompanies that use fracking to remove oil and gas from rock are required to clean up the damage.\\n\\n\\n Answer: 2. \\n\\n\\nsupply shifts left\\nsupply shifts left\\n supply stays the same\\nsupply shifts left\\n\\n\\n\",\n",
    "    \"chapter_name\": \"12-self-check-questions\",\n",
    "    \"textbook_name\": \"principles-microeconomics-3e\",\n",
    "    \"chapter_url\": \"https://openstax.org/books/principles-microeconomics-3e/pages/12-self-check-questions\",\n",
    "    \"question\": \"\\n2. \\n\\nIdentify whether the market supply curve will shift right or left or will stay the same for the following:\\nFirms in an industry are required to pay a fine for their carbon dioxide emissions.\\nCompanies are sued for polluting the water in a river.\\nPower plants in a specific city are not required to address the impact of their air quality emissions. \\nCompanies that use fracking to remove oil and gas from rock are required to clean up the damage.\\n\\n\\n\",\n",
    "    \"answer\": \"2. \\n\\n\\nsupply shifts left\\nsupply shifts left\\n supply stays the same\\nsupply shifts left\\n\\n\\n\"\n",
    "}"
   ]
  },
  {
   "cell_type": "code",
   "execution_count": 41,
   "metadata": {},
   "outputs": [],
   "source": [
    "prompt = f\"\"\"\n",
    "Question: {a['question']}\n",
    "Gold Answer: {a['answer']}\n",
    "Textbook: {a['textbook_name']}\n",
    "Provide one incorrect answer choice and two partially correct answer choices, for a total of three answer choices, that might confuse a student. Return an answer similar in style to the gold answer. Give reasoning for each choice. Think it through step by step. \"\n",
    "Return a JSON object in this exact format:\n",
    "        {{\n",
    "            \"question\": \"string\",\n",
    "            \"choice\": {{\n",
    "                \"gold_choice\": {{\"reason\": \"string\", \"answer\": \"string\"}},\n",
    "                \"incorrect_choice_1\": {{\"reason\": \"string\", \"answer\": \"string\"}},\n",
    "                \"incorrect_choice_2\": {{\"reason\": \"string\", \"answer\": \"string\"}},\n",
    "                \"incorrect_choice_3\": {{\"reason\": \"string\", \"answer\": \"string\"}},\n",
    "            }}\n",
    "        }}\n",
    "\"\"\"\n",
    "temperature = 0.0\n",
    "\n",
    "response = client.chat.completions.create(\n",
    "            model=\"gpt-4o\",\n",
    "            messages=[\n",
    "                {\"role\": \"system\", \"content\": \"You are a knowledgeable teacher creating a multiple-choice question. Your task is to make the question challenging by generating three incorrect answer choices that might confuse a student.\"},\n",
    "                {\"role\": \"user\", \"content\": prompt}\n",
    "            ],\n",
    "            temperature=temperature,\n",
    "            response_format={\"type\": \"json_object\"}\n",
    "        )\n",
    "\n",
    "gpt_answer = response.choices[0].message.content\n"
   ]
  },
  {
   "cell_type": "code",
   "execution_count": 42,
   "metadata": {},
   "outputs": [
    {
     "name": "stdout",
     "output_type": "stream",
     "text": [
      "{\n",
      "    \"question\": \"Identify whether the market supply curve will shift right or left or will stay the same for the following: Firms in an industry are required to pay a fine for their carbon dioxide emissions. Companies are sued for polluting the water in a river. Power plants in a specific city are not required to address the impact of their air quality emissions. Companies that use fracking to remove oil and gas from rock are required to clean up the damage.\",\n",
      "    \"choice\": {\n",
      "        \"gold_choice\": {\n",
      "            \"reason\": \"The supply curve shifts left when firms face additional costs, such as fines or cleanup requirements, which reduce their willingness to supply at any given price. The supply stays the same when there are no new costs or incentives affecting the supply decisions.\",\n",
      "            \"answer\": \"supply shifts left, supply shifts left, supply stays the same, supply shifts left\"\n",
      "        },\n",
      "        \"incorrect_choice_1\": {\n",
      "            \"reason\": \"This choice incorrectly assumes that the requirement to clean up damage from fracking does not affect supply, which is misleading because it imposes additional costs on companies.\",\n",
      "            \"answer\": \"supply shifts left, supply shifts left, supply stays the same, supply stays the same\"\n",
      "        },\n",
      "        \"incorrect_choice_2\": {\n",
      "            \"reason\": \"This choice incorrectly suggests that the supply curve shifts right when companies are sued, which is incorrect as legal actions typically increase costs and shift supply left.\",\n",
      "            \"answer\": \"supply shifts left, supply shifts right, supply stays the same, supply shifts left\"\n",
      "        },\n",
      "        \"incorrect_choice_3\": {\n",
      "            \"reason\": \"This choice incorrectly assumes that the supply curve shifts right when firms are fined for emissions, which is misleading because fines increase costs and typically shift supply left.\",\n",
      "            \"answer\": \"supply shifts right, supply shifts left, supply stays the same, supply shifts left\"\n",
      "        }\n",
      "    }\n",
      "}\n"
     ]
    }
   ],
   "source": [
    "print(gpt_answer)"
   ]
  },
  {
   "cell_type": "code",
   "execution_count": 43,
   "metadata": {},
   "outputs": [],
   "source": [
    "b = {\n",
    "    \"section_name\": \"keyterms\",\n",
    "    \"section_text\": \"\\n  \\n  \\nceteris paribus\\nother things being equal\\n\\ncomplements\\ngoods that are often used together so that consumption of one good tends to enhance consumption of the other\\nconsumer surplus the extra benefit consumers receive from buying a good or service, measured by what the individuals would have been willing to pay minus the amount that they actually paid\\ndeadweight loss the loss in social surplus that occurs when a market produces an inefficient quantity\\ndemand\\nthe relationship between price and the quantity demanded of a certain good or service\\n\\ndemand curve\\na graphic representation of the relationship between price and quantity demanded of a certain good or service, with quantity on the horizontal axis and the price on the vertical axis\\n\\ndemand schedule\\na table that shows a range of prices for a certain good or service and the quantity demanded at each price\\neconomic surplus see social surplus\\nequilibrium\\nthe situation where quantity demanded is equal to the quantity supplied; the combination of price and quantity where there is no economic pressure from surpluses or shortages that would cause price or quantity to change\\n\\nequilibrium price\\nthe price where quantity demanded is equal to quantity supplied\\n\\nequilibrium quantity\\nthe quantity at which quantity demanded and quantity supplied are equal for a certain price level\\n\\nexcess demand\\nat the existing price, the quantity demanded exceeds the quantity supplied; also called a shortage\\n\\nexcess supply\\nat the existing price, quantity supplied exceeds the quantity demanded; also called a surplus\\n\\nfactors of production\\nthe resources such as labor, materials, and machinery that are used to produce goods and services; also called inputs\\n\\ninferior good\\na good in which the quantity demanded falls as income rises, and in which quantity demanded rises and income falls\\n\\ninputs\\nthe resources such as labor, materials, and machinery that are used to produce goods and services; also called factors of production\\n\\nlaw of demand\\nthe common relationship that a higher price leads to a lower quantity demanded of a certain good or service and a lower price leads to a higher quantity demanded, while all other variables are held constant\\n\\nlaw of supply\\nthe common relationship that a higher price leads to a greater quantity supplied and a lower price leads to a lower quantity supplied, while all other variables are held constant\\n\\nnormal good\\na good in which the quantity demanded rises as income rises, and in which quantity demanded falls as income falls\\n\\nprice\\nwhat a buyer pays for a unit of the specific good or service\\n\\nprice ceiling\\na legal maximum price\\n\\nprice control\\ngovernment laws to regulate prices instead of letting market forces determine prices\\n\\nprice floor\\na legal minimum price\\n\\n  producer surplus\\n  the extra benefit producers receive from selling a good or service, measured by the price the producer actually received minus the price the producer would have been willing to accept\\n\\nquantity demanded\\nthe total number of units of a good or service consumers are willing to purchase at a given price\\n\\nquantity supplied\\nthe total number of units of a good or service producers are willing to sell at a given price\\n\\nshift in demand\\nwhen a change in some economic factor (other than price) causes a different quantity to be demanded at every price\\n\\nshift in supply\\nwhen a change in some economic factor (other than price) causes a different quantity to be supplied at every price\\n\\nshortage\\nat the existing price, the quantity demanded exceeds the quantity supplied; also called excess demand\\n\\n  social surplus\\n  the sum of consumer surplus and producer surplus\\n\\nsubstitute\\na good that can replace another to some extent, so that greater consumption of one good can mean less of the other\\n\\nsupply\\nthe relationship between price and the quantity supplied of a certain good or service\\n\\nsupply curve\\na line that shows the relationship between price and quantity supplied on a graph, with quantity supplied on the horizontal axis and price on the vertical axis\\n\\nsupply schedule\\na table that shows a range of prices for a good or service and the quantity supplied at each price\\n\\nsurplus\\nat the existing price, quantity supplied exceeds the quantity demanded; also called excess supply\\ntotal surplus see social surplus\\n\\n\\n\",\n",
    "    \"chapter_name\": \"3-key-terms\",\n",
    "    \"textbook_name\": \"principles-microeconomics-3e\",\n",
    "    \"chapter_url\": \"https://openstax.org/books/principles-microeconomics-3e/pages/3-key-terms\",\n",
    "    \"term\": \"normal good\",\n",
    "    \"definition\": \"a good in which the quantity demanded rises as income rises, and in which quantity demanded falls as income falls\"\n",
    "}"
   ]
  },
  {
   "cell_type": "code",
   "execution_count": 44,
   "metadata": {},
   "outputs": [],
   "source": [
    "prompt = f\"\"\"\n",
    "Term: {b['term']}\n",
    "Gold Answer: {b['definition']}\n",
    "Textbook: {b['textbook_name']}\n",
    "Provide one incorrect definition and two partially correct definitions, for a total of three answer choices, that might confuse a student. Return a definition similar in style to the gold answer. Give reasoning for each choice. Think it through step by step. \"\n",
    "Return a JSON object in this exact format:\n",
    "        {{\n",
    "            \"question\": \"string\",\n",
    "            \"choice\": {{\n",
    "                \"gold_choice\": {{\"reason\": \"string\", \"answer\": \"string\"}},\n",
    "                \"incorrect_choice_1\": {{\"reason\": \"string\", \"answer\": \"string\"}},\n",
    "                \"incorrect_choice_2\": {{\"reason\": \"string\", \"answer\": \"string\"}},\n",
    "                \"incorrect_choice_3\": {{\"reason\": \"string\", \"answer\": \"string\"}},\n",
    "            }}\n",
    "        }}\n",
    "\"\"\"\n",
    "temperature = 0.0\n",
    "\n",
    "response = client.chat.completions.create(\n",
    "            model=\"gpt-4o\",\n",
    "            messages=[\n",
    "                {\"role\": \"system\", \"content\": \"You are a knowledgeable teacher creating a multiple-choice question. Your task is to make the question challenging by generating three incorrect answer choices that might confuse a student.\"},\n",
    "                {\"role\": \"user\", \"content\": prompt}\n",
    "            ],\n",
    "            temperature=temperature,\n",
    "            response_format={\"type\": \"json_object\"}\n",
    "        )\n",
    "\n",
    "gpt_answer = response.choices[0].message.content\n"
   ]
  },
  {
   "cell_type": "code",
   "execution_count": 45,
   "metadata": {},
   "outputs": [
    {
     "name": "stdout",
     "output_type": "stream",
     "text": [
      "{\n",
      "    \"question\": \"Which of the following best describes a normal good?\",\n",
      "    \"choice\": {\n",
      "        \"gold_choice\": {\n",
      "            \"reason\": \"This is the correct definition of a normal good, where the demand for the good increases as consumer income increases and decreases as income decreases.\",\n",
      "            \"answer\": \"a good in which the quantity demanded rises as income rises, and in which quantity demanded falls as income falls\"\n",
      "        },\n",
      "        \"incorrect_choice_1\": {\n",
      "            \"reason\": \"This definition describes an inferior good, where the demand decreases as income rises, which is the opposite of a normal good.\",\n",
      "            \"answer\": \"a good in which the quantity demanded falls as income rises, and in which quantity demanded rises as income falls\"\n",
      "        },\n",
      "        \"incorrect_choice_2\": {\n",
      "            \"reason\": \"This definition is partially correct but misleading because it only mentions the increase in demand with rising income, omitting the decrease in demand with falling income.\",\n",
      "            \"answer\": \"a good in which the quantity demanded rises as income rises, but does not change as income falls\"\n",
      "        },\n",
      "        \"incorrect_choice_3\": {\n",
      "            \"reason\": \"This definition is partially correct but misleading because it only mentions the decrease in demand with falling income, omitting the increase in demand with rising income.\",\n",
      "            \"answer\": \"a good in which the quantity demanded falls as income falls, but does not change as income rises\"\n",
      "        }\n",
      "    }\n",
      "}\n"
     ]
    }
   ],
   "source": [
    "print(gpt_answer)"
   ]
  },
  {
   "cell_type": "code",
   "execution_count": null,
   "metadata": {},
   "outputs": [],
   "source": [
    "system_prompt_1 = \"\"\"\n",
    "You are a helpful assistant that can answer questions and help with tasks.\n",
    "\"\"\"\n",
    "prompt_1 = f\"\"\"\n",
    "Question: {a['question']}\n",
    "Please break down the question into smaller parts.\n",
    "\"\"\"\n",
    "temperature = 0.0\n",
    "\n",
    "response = client.chat.completions.create(\n",
    "            model=\"gpt-4o-mini\",\n",
    "            messages=[\n",
    "                {\"role\": \"system\", \"content\": \"You are a knowledgeable teacher creating a multiple-choice question. Your task is to make the question challenging by generating three incorrect answer choices that might confuse a student.\"},\n",
    "                {\"role\": \"user\", \"content\": prompt}\n",
    "            ],\n",
    "            temperature=temperature,\n",
    "            response_format={\"type\": \"json_object\"}\n",
    "        )\n",
    "\n",
    "gpt_answer = response.choices[0].message.content\n"
   ]
  },
  {
   "cell_type": "code",
   "execution_count": null,
   "metadata": {},
   "outputs": [],
   "source": []
  },
  {
   "cell_type": "code",
   "execution_count": null,
   "metadata": {},
   "outputs": [],
   "source": []
  },
  {
   "cell_type": "code",
   "execution_count": null,
   "metadata": {},
   "outputs": [],
   "source": []
  }
 ],
 "metadata": {
  "kernelspec": {
   "display_name": "Python 3",
   "language": "python",
   "name": "python3"
  },
  "language_info": {
   "codemirror_mode": {
    "name": "ipython",
    "version": 3
   },
   "file_extension": ".py",
   "mimetype": "text/x-python",
   "name": "python",
   "nbconvert_exporter": "python",
   "pygments_lexer": "ipython3",
   "version": "3.11.5"
  }
 },
 "nbformat": 4,
 "nbformat_minor": 2
}
