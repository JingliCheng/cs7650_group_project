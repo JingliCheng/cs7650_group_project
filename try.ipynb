{
 "cells": [
  {
   "cell_type": "code",
   "execution_count": 2,
   "metadata": {},
   "outputs": [],
   "source": [
    "import json\n",
    "import os\n",
    "import openai\n",
    "client = openai.OpenAI()"
   ]
  },
  {
   "cell_type": "code",
   "execution_count": 11,
   "metadata": {},
   "outputs": [],
   "source": [
    "a = {\n",
    "    \"section_name\": \"self-check-questions\",\n",
    "    \"section_text\": \"Question: \\n2. \\n\\nIdentify whether the market supply curve will shift right or left or will stay the same for the following:\\nFirms in an industry are required to pay a fine for their carbon dioxide emissions.\\nCompanies are sued for polluting the water in a river.\\nPower plants in a specific city are not required to address the impact of their air quality emissions. \\nCompanies that use fracking to remove oil and gas from rock are required to clean up the damage.\\n\\n\\n Answer: 2. \\n\\n\\nsupply shifts left\\nsupply shifts left\\n supply stays the same\\nsupply shifts left\\n\\n\\n\",\n",
    "    \"chapter_name\": \"12-self-check-questions\",\n",
    "    \"textbook_name\": \"principles-microeconomics-3e\",\n",
    "    \"chapter_url\": \"https://openstax.org/books/principles-microeconomics-3e/pages/12-self-check-questions\",\n",
    "    \"question\": \"\\n2. \\n\\nIdentify whether the market supply curve will shift right or left or will stay the same for the following:\\nFirms in an industry are required to pay a fine for their carbon dioxide emissions.\\nCompanies are sued for polluting the water in a river.\\nPower plants in a specific city are not required to address the impact of their air quality emissions. \\nCompanies that use fracking to remove oil and gas from rock are required to clean up the damage.\\n\\n\\n\",\n",
    "    \"answer\": \"2. \\n\\n\\nsupply shifts left\\nsupply shifts left\\n supply stays the same\\nsupply shifts left\\n\\n\\n\"\n",
    "}"
   ]
  },
  {
   "cell_type": "code",
   "execution_count": 12,
   "metadata": {},
   "outputs": [],
   "source": [
    "prompt = f\"\"\"\n",
    "Question: {a['question']}\n",
    "Gold Answer: {a['answer']}\n",
    "Provide three incorrect answer choices that might confuse a student. Give reasoning for each incorrect choice. Think it step by step. \"\n",
    "Return a JSON object in this exact format:\n",
    "        {{\n",
    "            \"question\": \"string\",\n",
    "            \"choice\": {{\n",
    "                \"gold_choice\": {{\"answer\": \"string\", \"reason\": \"string\"}},\n",
    "                \"incorrect_choice_1\": {{\"answer\": \"string\", \"reason\": \"string\"}},\n",
    "                \"incorrect_choice_2\": {{\"answer\": \"string\", \"reason\": \"string\"}},\n",
    "                \"incorrect_choice_3\": {{\"answer\": \"string\", \"reason\": \"string\"}},\n",
    "            }}\n",
    "        }}\n",
    "\"\"\"\n",
    "temperature = 0.0\n",
    "\n",
    "response = client.chat.completions.create(\n",
    "            model=\"gpt-4o-mini\",\n",
    "            messages=[\n",
    "                {\"role\": \"system\", \"content\": \"You are a knowledgeable teacher creating a multiple-choice question. Your task is to make the question challenging by generating three incorrect answer choices that might confuse a student.\"},\n",
    "                {\"role\": \"user\", \"content\": prompt}\n",
    "            ],\n",
    "            temperature=temperature,\n",
    "            response_format={\"type\": \"json_object\"}\n",
    "        )\n",
    "\n",
    "gpt_answer = response.choices[0].message.content\n"
   ]
  },
  {
   "cell_type": "code",
   "execution_count": 13,
   "metadata": {},
   "outputs": [
    {
     "name": "stdout",
     "output_type": "stream",
     "text": [
      "{\n",
      "    \"question\": \"Identify whether the market supply curve will shift right or left or will stay the same for the following: Firms in an industry are required to pay a fine for their carbon dioxide emissions. Companies are sued for polluting the water in a river. Power plants in a specific city are not required to address the impact of their air quality emissions. Companies that use fracking to remove oil and gas from rock are required to clean up the damage.\",\n",
      "    \"choice\": {\n",
      "        \"gold_choice\": {\"answer\": \"supply shifts left\", \"reason\": \"The imposition of fines and legal actions increases costs for firms, leading to a decrease in supply.\"},\n",
      "        \"incorrect_choice_1\": {\"answer\": \"supply shifts right\", \"reason\": \"One might think that fines and lawsuits could lead to innovation and efficiency, thus increasing supply, but in reality, they raise costs.\"},\n",
      "        \"incorrect_choice_2\": {\"answer\": \"supply stays the same\", \"reason\": \"It may seem that regulatory changes do not affect supply, but increased costs from fines and lawsuits typically lead to a decrease in supply.\"},\n",
      "        \"incorrect_choice_3\": {\"answer\": \"supply shifts right for all cases\", \"reason\": \"This choice could confuse students who might believe that regulatory requirements lead to better practices and thus increased supply, ignoring the immediate cost implications.\"}\n",
      "    }\n",
      "}\n"
     ]
    }
   ],
   "source": [
    "print(gpt_answer)"
   ]
  },
  {
   "cell_type": "code",
   "execution_count": null,
   "metadata": {},
   "outputs": [],
   "source": [
    "system_prompt_1 = \"\"\"\n",
    "You are a helpful assistant that can answer questions and help with tasks.\n",
    "\"\"\"\n",
    "prompt_1 = f\"\"\"\n",
    "Question: {a['question']}\n",
    "Please break down the question into smaller parts.\n",
    "\"\"\"\n",
    "temperature = 0.0\n",
    "\n",
    "response = client.chat.completions.create(\n",
    "            model=\"gpt-4o-mini\",\n",
    "            messages=[\n",
    "                {\"role\": \"system\", \"content\": \"You are a knowledgeable teacher creating a multiple-choice question. Your task is to make the question challenging by generating three incorrect answer choices that might confuse a student.\"},\n",
    "                {\"role\": \"user\", \"content\": prompt}\n",
    "            ],\n",
    "            temperature=temperature,\n",
    "            response_format={\"type\": \"json_object\"}\n",
    "        )\n",
    "\n",
    "gpt_answer = response.choices[0].message.content\n"
   ]
  },
  {
   "cell_type": "code",
   "execution_count": null,
   "metadata": {},
   "outputs": [],
   "source": []
  },
  {
   "cell_type": "code",
   "execution_count": null,
   "metadata": {},
   "outputs": [],
   "source": []
  },
  {
   "cell_type": "code",
   "execution_count": null,
   "metadata": {},
   "outputs": [],
   "source": []
  }
 ],
 "metadata": {
  "kernelspec": {
   "display_name": "FSIL",
   "language": "python",
   "name": "python3"
  },
  "language_info": {
   "codemirror_mode": {
    "name": "ipython",
    "version": 3
   },
   "file_extension": ".py",
   "mimetype": "text/x-python",
   "name": "python",
   "nbconvert_exporter": "python",
   "pygments_lexer": "ipython3",
   "version": "3.9.19"
  }
 },
 "nbformat": 4,
 "nbformat_minor": 2
}
