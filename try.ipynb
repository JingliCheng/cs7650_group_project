{
 "cells": [
  {
   "cell_type": "code",
   "execution_count": 17,
   "metadata": {},
   "outputs": [],
   "source": [
    "import json\n",
    "import os\n",
    "import openai\n",
    "from dotenv import load_dotenv\n",
    "\n",
    "load_dotenv()\n",
    "client = openai.OpenAI()"
   ]
  },
  {
   "cell_type": "code",
   "execution_count": 40,
   "metadata": {},
   "outputs": [],
   "source": [
    "a = {\n",
    "    \"section_name\": \"self-check-questions\",\n",
    "    \"section_text\": \"Question: \\n2. \\n\\nIdentify whether the market supply curve will shift right or left or will stay the same for the following:\\nFirms in an industry are required to pay a fine for their carbon dioxide emissions.\\nCompanies are sued for polluting the water in a river.\\nPower plants in a specific city are not required to address the impact of their air quality emissions. \\nCompanies that use fracking to remove oil and gas from rock are required to clean up the damage.\\n\\n\\n Answer: 2. \\n\\n\\nsupply shifts left\\nsupply shifts left\\n supply stays the same\\nsupply shifts left\\n\\n\\n\",\n",
    "    \"chapter_name\": \"12-self-check-questions\",\n",
    "    \"textbook_name\": \"principles-microeconomics-3e\",\n",
    "    \"chapter_url\": \"https://openstax.org/books/principles-microeconomics-3e/pages/12-self-check-questions\",\n",
    "    \"question\": \"\\n2. \\n\\nIdentify whether the market supply curve will shift right or left or will stay the same for the following:\\nFirms in an industry are required to pay a fine for their carbon dioxide emissions.\\nCompanies are sued for polluting the water in a river.\\nPower plants in a specific city are not required to address the impact of their air quality emissions. \\nCompanies that use fracking to remove oil and gas from rock are required to clean up the damage.\\n\\n\\n\",\n",
    "    \"answer\": \"2. \\n\\n\\nsupply shifts left\\nsupply shifts left\\n supply stays the same\\nsupply shifts left\\n\\n\\n\"\n",
    "}"
   ]
  },
  {
   "cell_type": "code",
   "execution_count": 67,
   "metadata": {},
   "outputs": [],
   "source": [
    "prompt = f\"\"\"\n",
    "Question: {a['question']}\n",
    "Gold Answer: {a['answer']}\n",
    "Textbook: {a['textbook_name']}\n",
    "Provide one fully incorrect answer choice and two partially incorrect answer choices, for a total of three incorrect answer choices, that might confuse a student. Return an answer similar in style to the gold answer. Find implied concepts within the original question that could cause errors in answering, and shape the incorrect answers based on these concepts. Give reasoning for each choice. Think it through step by step. \"\n",
    "Return a JSON object in this exact format:\n",
    "        {{\n",
    "            \"question\": \"string\",\n",
    "            \"choice\": {{\n",
    "                \"gold_choice\": {{\"reason\": \"string\", \"answer\": \"string\"}},\n",
    "                \"incorrect_choice_1\": {{\"reason\": \"string\", \"answer\": \"string\"}},\n",
    "                \"incorrect_choice_2\": {{\"reason\": \"string\", \"answer\": \"string\"}},\n",
    "                \"incorrect_choice_3\": {{\"reason\": \"string\", \"answer\": \"string\"}},\n",
    "            }}\n",
    "        }}\n",
    "\"\"\"\n",
    "temperature = 0.0\n",
    "\n",
    "response = client.chat.completions.create(\n",
    "            model=\"gpt-4o\",\n",
    "            messages=[\n",
    "                {\"role\": \"system\", \"content\": \"You are a knowledgeable teacher creating a multiple-choice question. Your task is to make the question challenging by generating three incorrect answer choices that might confuse a student.\"},\n",
    "                {\"role\": \"user\", \"content\": prompt}\n",
    "            ],\n",
    "            temperature=temperature,\n",
    "            response_format={\"type\": \"json_object\"}\n",
    "        )\n",
    "\n",
    "gpt_answer = response.choices[0].message.content\n"
   ]
  },
  {
   "cell_type": "code",
   "execution_count": 47,
   "metadata": {},
   "outputs": [
    {
     "name": "stdout",
     "output_type": "stream",
     "text": [
      "{\n",
      "    \"question\": \"Identify whether the market supply curve will shift right or left or will stay the same for the following: Firms in an industry are required to pay a fine for their carbon dioxide emissions. Companies are sued for polluting the water in a river. Power plants in a specific city are not required to address the impact of their air quality emissions. Companies that use fracking to remove oil and gas from rock are required to clean up the damage.\",\n",
      "    \"choice\": {\n",
      "        \"gold_choice\": {\n",
      "            \"reason\": \"The gold answer correctly identifies that fines and lawsuits increase production costs, causing the supply curve to shift left. The lack of regulation in the third scenario means no change in supply, and the requirement to clean up fracking damage also increases costs, shifting supply left.\",\n",
      "            \"answer\": \"supply shifts left, supply shifts left, supply stays the same, supply shifts left\"\n",
      "        },\n",
      "        \"incorrect_choice_1\": {\n",
      "            \"reason\": \"This choice incorrectly assumes that the requirement to clean up fracking damage does not affect supply, which is misleading because it increases costs, thus shifting supply left.\",\n",
      "            \"answer\": \"supply shifts left, supply shifts left, supply stays the same, supply stays the same\"\n",
      "        },\n",
      "        \"incorrect_choice_2\": {\n",
      "            \"reason\": \"This choice incorrectly suggests that the lack of regulation in the third scenario causes a rightward shift, which is incorrect because it should result in no change to supply.\",\n",
      "            \"answer\": \"supply shifts left, supply shifts left, supply shifts right, supply shifts left\"\n",
      "        },\n",
      "        \"incorrect_choice_3\": {\n",
      "            \"reason\": \"This choice incorrectly assumes that the fines and lawsuits do not affect supply, which is misleading because they increase costs, thus shifting supply left.\",\n",
      "            \"answer\": \"supply stays the same, supply stays the same, supply stays the same, supply shifts left\"\n",
      "        }\n",
      "    }\n",
      "}\n"
     ]
    }
   ],
   "source": [
    "print(gpt_answer)"
   ]
  },
  {
   "cell_type": "code",
   "execution_count": 43,
   "metadata": {},
   "outputs": [],
   "source": [
    "b = {\n",
    "    \"section_name\": \"keyterms\",\n",
    "    \"section_text\": \"\\n  \\n  \\nceteris paribus\\nother things being equal\\n\\ncomplements\\ngoods that are often used together so that consumption of one good tends to enhance consumption of the other\\nconsumer surplus the extra benefit consumers receive from buying a good or service, measured by what the individuals would have been willing to pay minus the amount that they actually paid\\ndeadweight loss the loss in social surplus that occurs when a market produces an inefficient quantity\\ndemand\\nthe relationship between price and the quantity demanded of a certain good or service\\n\\ndemand curve\\na graphic representation of the relationship between price and quantity demanded of a certain good or service, with quantity on the horizontal axis and the price on the vertical axis\\n\\ndemand schedule\\na table that shows a range of prices for a certain good or service and the quantity demanded at each price\\neconomic surplus see social surplus\\nequilibrium\\nthe situation where quantity demanded is equal to the quantity supplied; the combination of price and quantity where there is no economic pressure from surpluses or shortages that would cause price or quantity to change\\n\\nequilibrium price\\nthe price where quantity demanded is equal to quantity supplied\\n\\nequilibrium quantity\\nthe quantity at which quantity demanded and quantity supplied are equal for a certain price level\\n\\nexcess demand\\nat the existing price, the quantity demanded exceeds the quantity supplied; also called a shortage\\n\\nexcess supply\\nat the existing price, quantity supplied exceeds the quantity demanded; also called a surplus\\n\\nfactors of production\\nthe resources such as labor, materials, and machinery that are used to produce goods and services; also called inputs\\n\\ninferior good\\na good in which the quantity demanded falls as income rises, and in which quantity demanded rises and income falls\\n\\ninputs\\nthe resources such as labor, materials, and machinery that are used to produce goods and services; also called factors of production\\n\\nlaw of demand\\nthe common relationship that a higher price leads to a lower quantity demanded of a certain good or service and a lower price leads to a higher quantity demanded, while all other variables are held constant\\n\\nlaw of supply\\nthe common relationship that a higher price leads to a greater quantity supplied and a lower price leads to a lower quantity supplied, while all other variables are held constant\\n\\nnormal good\\na good in which the quantity demanded rises as income rises, and in which quantity demanded falls as income falls\\n\\nprice\\nwhat a buyer pays for a unit of the specific good or service\\n\\nprice ceiling\\na legal maximum price\\n\\nprice control\\ngovernment laws to regulate prices instead of letting market forces determine prices\\n\\nprice floor\\na legal minimum price\\n\\n  producer surplus\\n  the extra benefit producers receive from selling a good or service, measured by the price the producer actually received minus the price the producer would have been willing to accept\\n\\nquantity demanded\\nthe total number of units of a good or service consumers are willing to purchase at a given price\\n\\nquantity supplied\\nthe total number of units of a good or service producers are willing to sell at a given price\\n\\nshift in demand\\nwhen a change in some economic factor (other than price) causes a different quantity to be demanded at every price\\n\\nshift in supply\\nwhen a change in some economic factor (other than price) causes a different quantity to be supplied at every price\\n\\nshortage\\nat the existing price, the quantity demanded exceeds the quantity supplied; also called excess demand\\n\\n  social surplus\\n  the sum of consumer surplus and producer surplus\\n\\nsubstitute\\na good that can replace another to some extent, so that greater consumption of one good can mean less of the other\\n\\nsupply\\nthe relationship between price and the quantity supplied of a certain good or service\\n\\nsupply curve\\na line that shows the relationship between price and quantity supplied on a graph, with quantity supplied on the horizontal axis and price on the vertical axis\\n\\nsupply schedule\\na table that shows a range of prices for a good or service and the quantity supplied at each price\\n\\nsurplus\\nat the existing price, quantity supplied exceeds the quantity demanded; also called excess supply\\ntotal surplus see social surplus\\n\\n\\n\",\n",
    "    \"chapter_name\": \"3-key-terms\",\n",
    "    \"textbook_name\": \"principles-microeconomics-3e\",\n",
    "    \"chapter_url\": \"https://openstax.org/books/principles-microeconomics-3e/pages/3-key-terms\",\n",
    "    \"term\": \"normal good\",\n",
    "    \"definition\": \"a good in which the quantity demanded rises as income rises, and in which quantity demanded falls as income falls\"\n",
    "}"
   ]
  },
  {
   "cell_type": "code",
   "execution_count": 62,
   "metadata": {},
   "outputs": [],
   "source": [
    "prompt = f\"\"\"\n",
    "Term: {b['term']}\n",
    "Gold Answer: {b['definition']}\n",
    "Textbook: {b['textbook_name']}\n",
    "Provide one fully incorrect definition and two partially incorrect definitions, for a total of three incorrect answer choices, that might confuse a student. Return a definition similar in style to the gold answer. Find key areas within the original definition that could cause errors in answering, and shape the incorrect answers based on these concepts. Give reasoning for each choice. Think it through step by step. \"\n",
    "Return a JSON object in this exact format:\n",
    "        {{\n",
    "            \"question\": \"string\",\n",
    "            \"choice\": {{\n",
    "                \"gold_choice\": {{\"reason\": \"string\", \"answer\": \"string\"}},\n",
    "                \"incorrect_choice_1\": {{\"reason\": \"string\", \"answer\": \"string\"}},\n",
    "                \"incorrect_choice_2\": {{\"reason\": \"string\", \"answer\": \"string\"}},\n",
    "                \"incorrect_choice_3\": {{\"reason\": \"string\", \"answer\": \"string\"}},\n",
    "            }}\n",
    "        }}\n",
    "\"\"\"\n",
    "temperature = 0.0\n",
    "\n",
    "response = client.chat.completions.create(\n",
    "            model=\"gpt-4o\",\n",
    "            messages=[\n",
    "                {\"role\": \"system\", \"content\": \"You are a knowledgeable teacher creating a multiple-choice question. Your task is to make the question challenging by generating three incorrect answer choices that might confuse a student.\"},\n",
    "                {\"role\": \"user\", \"content\": prompt}\n",
    "            ],\n",
    "            temperature=temperature,\n",
    "            response_format={\"type\": \"json_object\"}\n",
    "        )\n",
    "\n",
    "gpt_answer = response.choices[0].message.content\n"
   ]
  },
  {
   "cell_type": "code",
   "execution_count": 50,
   "metadata": {},
   "outputs": [
    {
     "name": "stdout",
     "output_type": "stream",
     "text": [
      "{\n",
      "    \"question\": \"What is the definition of a normal good?\",\n",
      "    \"choice\": {\n",
      "        \"gold_choice\": {\n",
      "            \"reason\": \"This is the correct definition of a normal good, where the quantity demanded increases with an increase in income and decreases with a decrease in income.\",\n",
      "            \"answer\": \"a good in which the quantity demanded rises as income rises, and in which quantity demanded falls as income falls\"\n",
      "        },\n",
      "        \"incorrect_choice_1\": {\n",
      "            \"reason\": \"This definition incorrectly states that the quantity demanded of a normal good decreases as income rises, which is the opposite of the correct relationship.\",\n",
      "            \"answer\": \"a good in which the quantity demanded falls as income rises, and in which quantity demanded rises as income falls\"\n",
      "        },\n",
      "        \"incorrect_choice_2\": {\n",
      "            \"reason\": \"This definition partially confuses the concept by stating that the quantity demanded remains constant regardless of income changes, which is not true for normal goods.\",\n",
      "            \"answer\": \"a good in which the quantity demanded remains constant as income rises or falls\"\n",
      "        },\n",
      "        \"incorrect_choice_3\": {\n",
      "            \"reason\": \"This definition incorrectly describes a normal good as one where the quantity demanded rises as prices rise, confusing the concept with price elasticity rather than income elasticity.\",\n",
      "            \"answer\": \"a good in which the quantity demanded rises as prices rise, and in which quantity demanded falls as prices fall\"\n",
      "        }\n",
      "    }\n",
      "}\n"
     ]
    }
   ],
   "source": [
    "print(gpt_answer)"
   ]
  },
  {
   "cell_type": "code",
   "execution_count": 74,
   "metadata": {},
   "outputs": [],
   "source": [
    "c = {\n",
    "    \"section_name\": \"keyterms\",\n",
    "    \"section_text\": \"\\n  \\n  \\nceteris paribus\\nother things being equal\\n\\ncomplements\\ngoods that are often used together so that consumption of one good tends to enhance consumption of the other\\nconsumer surplus the extra benefit consumers receive from buying a good or service, measured by what the individuals would have been willing to pay minus the amount that they actually paid\\ndeadweight loss the loss in social surplus that occurs when a market produces an inefficient quantity\\ndemand\\nthe relationship between price and the quantity demanded of a certain good or service\\n\\ndemand curve\\na graphic representation of the relationship between price and quantity demanded of a certain good or service, with quantity on the horizontal axis and the price on the vertical axis\\n\\ndemand schedule\\na table that shows a range of prices for a certain good or service and the quantity demanded at each price\\neconomic surplus see social surplus\\nequilibrium\\nthe situation where quantity demanded is equal to the quantity supplied; the combination of price and quantity where there is no economic pressure from surpluses or shortages that would cause price or quantity to change\\n\\nequilibrium price\\nthe price where quantity demanded is equal to quantity supplied\\n\\nequilibrium quantity\\nthe quantity at which quantity demanded and quantity supplied are equal for a certain price level\\n\\nexcess demand\\nat the existing price, the quantity demanded exceeds the quantity supplied; also called a shortage\\n\\nexcess supply\\nat the existing price, quantity supplied exceeds the quantity demanded; also called a surplus\\n\\nfactors of production\\nthe resources such as labor, materials, and machinery that are used to produce goods and services; also called inputs\\n\\ninferior good\\na good in which the quantity demanded falls as income rises, and in which quantity demanded rises and income falls\\n\\ninputs\\nthe resources such as labor, materials, and machinery that are used to produce goods and services; also called factors of production\\n\\nlaw of demand\\nthe common relationship that a higher price leads to a lower quantity demanded of a certain good or service and a lower price leads to a higher quantity demanded, while all other variables are held constant\\n\\nlaw of supply\\nthe common relationship that a higher price leads to a greater quantity supplied and a lower price leads to a lower quantity supplied, while all other variables are held constant\\n\\nnormal good\\na good in which the quantity demanded rises as income rises, and in which quantity demanded falls as income falls\\n\\nprice\\nwhat a buyer pays for a unit of the specific good or service\\n\\nprice ceiling\\na legal maximum price\\n\\nprice control\\ngovernment laws to regulate prices instead of letting market forces determine prices\\n\\nprice floor\\na legal minimum price\\n\\n  producer surplus\\n  the extra benefit producers receive from selling a good or service, measured by the price the producer actually received minus the price the producer would have been willing to accept\\n\\nquantity demanded\\nthe total number of units of a good or service consumers are willing to purchase at a given price\\n\\nquantity supplied\\nthe total number of units of a good or service producers are willing to sell at a given price\\n\\nshift in demand\\nwhen a change in some economic factor (other than price) causes a different quantity to be demanded at every price\\n\\nshift in supply\\nwhen a change in some economic factor (other than price) causes a different quantity to be supplied at every price\\n\\nshortage\\nat the existing price, the quantity demanded exceeds the quantity supplied; also called excess demand\\n\\n  social surplus\\n  the sum of consumer surplus and producer surplus\\n\\nsubstitute\\na good that can replace another to some extent, so that greater consumption of one good can mean less of the other\\n\\nsupply\\nthe relationship between price and the quantity supplied of a certain good or service\\n\\nsupply curve\\na line that shows the relationship between price and quantity supplied on a graph, with quantity supplied on the horizontal axis and price on the vertical axis\\n\\nsupply schedule\\na table that shows a range of prices for a good or service and the quantity supplied at each price\\n\\nsurplus\\nat the existing price, quantity supplied exceeds the quantity demanded; also called excess supply\\ntotal surplus see social surplus\\n\\n\\n\",\n",
    "    \"chapter_name\": \"3-key-terms\",\n",
    "    \"textbook_name\": \"principles-microeconomics-3e\",\n",
    "    \"chapter_url\": \"https://openstax.org/books/principles-microeconomics-3e/pages/3-key-terms\",\n",
    "    \"term\": \"standardized employment budget\",\n",
    "    \"definition\": \"the budget deficit or surplus in any given year adjusted for what it would have been if the economy were producing at potential GDP\"\n",
    "}"
   ]
  },
  {
   "cell_type": "code",
   "execution_count": 75,
   "metadata": {},
   "outputs": [],
   "source": [
    "prompt = f\"\"\"\n",
    "Term: {c['term']}\n",
    "Gold Answer: {c['definition']}\n",
    "Textbook: {c['textbook_name']}\n",
    "Provide one fully incorrect definition and two partially incorrect definitions, for a total of three incorrect answer choices, that might confuse a student. Return a definition similar in style to the gold answer. Find key areas within the original definition that could cause errors in answering, and shape the incorrect answers based on these concepts. Give reasoning for each choice. Think it through step by step. \"\n",
    "Return a JSON object in this exact format:\n",
    "        {{\n",
    "            \"question\": \"string\",\n",
    "            \"choice\": {{\n",
    "                \"gold_choice\": {{\"reason\": \"string\", \"answer\": \"string\"}},\n",
    "                \"incorrect_choice_1\": {{\"reason\": \"string\", \"answer\": \"string\"}},\n",
    "                \"incorrect_choice_2\": {{\"reason\": \"string\", \"answer\": \"string\"}},\n",
    "                \"incorrect_choice_3\": {{\"reason\": \"string\", \"answer\": \"string\"}},\n",
    "            }}\n",
    "        }}\n",
    "\"\"\"\n",
    "temperature = 0.0\n",
    "\n",
    "response = client.chat.completions.create(\n",
    "            model=\"gpt-4o\",\n",
    "            messages=[\n",
    "                {\"role\": \"system\", \"content\": \"You are a knowledgeable teacher creating a multiple-choice question. Your task is to make the question challenging by generating three incorrect answer choices that might confuse a student.\"},\n",
    "                {\"role\": \"user\", \"content\": prompt}\n",
    "            ],\n",
    "            temperature=temperature,\n",
    "            response_format={\"type\": \"json_object\"}\n",
    "        )\n",
    "\n",
    "gpt_answer = response.choices[0].message.content\n"
   ]
  },
  {
   "cell_type": "code",
   "execution_count": 76,
   "metadata": {},
   "outputs": [
    {
     "name": "stdout",
     "output_type": "stream",
     "text": [
      "{\n",
      "    \"question\": \"What is the definition of a standardized employment budget?\",\n",
      "    \"choice\": {\n",
      "        \"gold_choice\": {\n",
      "            \"reason\": \"This definition accurately describes the standardized employment budget by considering the budget deficit or surplus adjusted for potential GDP.\",\n",
      "            \"answer\": \"the budget deficit or surplus in any given year adjusted for what it would have been if the economy were producing at potential GDP\"\n",
      "        },\n",
      "        \"incorrect_choice_1\": {\n",
      "            \"reason\": \"This definition incorrectly focuses on the actual GDP rather than potential GDP, which is a key aspect of the standardized employment budget.\",\n",
      "            \"answer\": \"the budget deficit or surplus in any given year adjusted for what it would have been if the economy were producing at actual GDP\"\n",
      "        },\n",
      "        \"incorrect_choice_2\": {\n",
      "            \"reason\": \"This definition mistakenly emphasizes the unemployment rate instead of the budget deficit or surplus, which is not the primary focus of the standardized employment budget.\",\n",
      "            \"answer\": \"the unemployment rate in any given year adjusted for what it would have been if the economy were producing at potential GDP\"\n",
      "        },\n",
      "        \"incorrect_choice_3\": {\n",
      "            \"reason\": \"This definition incorrectly describes the standardized employment budget as being adjusted for inflation rather than potential GDP, which misleads the focus of the concept.\",\n",
      "            \"answer\": \"the budget deficit or surplus in any given year adjusted for what it would have been if the economy were adjusted for inflation\"\n",
      "        }\n",
      "    }\n",
      "}\n"
     ]
    }
   ],
   "source": [
    "print(gpt_answer)"
   ]
  },
  {
   "cell_type": "code",
   "execution_count": 77,
   "metadata": {},
   "outputs": [
    {
     "name": "stdout",
     "output_type": "stream",
     "text": [
      "The standardized employment budget, also known as the cyclically adjusted budget, refers to the budget deficit or surplus adjusted to reflect what it would be if the economy were operating at its potential GDP. This adjustment removes the effects of the economic cycle, such as recessions or booms, to provide a clearer picture of the government's fiscal position. Therefore, the correct choice is the one that describes the budget adjusted for potential GDP, not actual GDP or inflation.\n",
      "\n",
      "Choice 1 is the correct answer: the budget deficit or surplus in any given year adjusted for what it would have been if the economy were producing at potential GDP.\n"
     ]
    }
   ],
   "source": [
    "dict_answer = json.loads(gpt_answer)\n",
    "\n",
    "prompt = f\"\"\"\n",
    "Question: {dict_answer['question']}\n",
    "Choice 1: {dict_answer['choice']['gold_choice']['answer']}\n",
    "Choice 2: {dict_answer['choice']['incorrect_choice_1']['answer']}\n",
    "Choice 3: {dict_answer['choice']['incorrect_choice_2']['answer']}\n",
    "Choice 4: {dict_answer['choice']['incorrect_choice_3']['answer']}\n",
    "Which of the above definitions best answers the question? Give a reason for your choice first, then give your choice.\n",
    "\"\"\"\n",
    "temperature = 0.0\n",
    "\n",
    "response = client.chat.completions.create(\n",
    "            model=\"gpt-4o\",\n",
    "            messages=[\n",
    "                {\"role\": \"system\", \"content\": \"You are a student answering a textbook problem.\"},\n",
    "                {\"role\": \"user\", \"content\": prompt}\n",
    "            ],\n",
    "            temperature=temperature,\n",
    "            response_format={\"type\": \"text\"}\n",
    "        )\n",
    "\n",
    "print(response.choices[0].message.content)\n"
   ]
  },
  {
   "cell_type": "code",
   "execution_count": 78,
   "metadata": {},
   "outputs": [
    {
     "data": {
      "text/plain": [
       "'\\nQuestion: What is the definition of a standardized employment budget?\\nChoice 1: the budget deficit or surplus in any given year adjusted for what it would have been if the economy were producing at potential GDP\\nChoice 2: the budget deficit or surplus in any given year adjusted for what it would have been if the economy were producing at actual GDP\\nChoice 3: the unemployment rate in any given year adjusted for what it would have been if the economy were producing at potential GDP\\nChoice 4: the budget deficit or surplus in any given year adjusted for what it would have been if the economy were adjusted for inflation\\nWhich of the above definitions best answers the question? Give a reason for your choice first, then give your choice.\\n'"
      ]
     },
     "execution_count": 78,
     "metadata": {},
     "output_type": "execute_result"
    }
   ],
   "source": [
    "prompt"
   ]
  },
  {
   "cell_type": "code",
   "execution_count": null,
   "metadata": {},
   "outputs": [],
   "source": [
    "system_prompt_1 = \"\"\"\n",
    "You are a helpful assistant that can answer questions and help with tasks.\n",
    "\"\"\"\n",
    "prompt_1 = f\"\"\"\n",
    "Question: {a['question']}\n",
    "Please break down the question into smaller parts.\n",
    "\"\"\"\n",
    "temperature = 0.0\n",
    "\n",
    "response = client.chat.completions.create(\n",
    "            model=\"gpt-4o-mini\",\n",
    "            messages=[\n",
    "                {\"role\": \"system\", \"content\": \"You are a knowledgeable teacher creating a multiple-choice question. Your task is to make the question challenging by generating three incorrect answer choices that might confuse a student.\"},\n",
    "                {\"role\": \"user\", \"content\": prompt}\n",
    "            ],\n",
    "            temperature=temperature,\n",
    "            response_format={\"type\": \"json_object\"}\n",
    "        )\n",
    "\n",
    "gpt_answer = response.choices[0].message.content\n"
   ]
  },
  {
   "cell_type": "code",
   "execution_count": null,
   "metadata": {},
   "outputs": [],
   "source": []
  },
  {
   "cell_type": "code",
   "execution_count": null,
   "metadata": {},
   "outputs": [],
   "source": []
  },
  {
   "cell_type": "code",
   "execution_count": null,
   "metadata": {},
   "outputs": [],
   "source": []
  }
 ],
 "metadata": {
  "kernelspec": {
   "display_name": "Python 3",
   "language": "python",
   "name": "python3"
  },
  "language_info": {
   "codemirror_mode": {
    "name": "ipython",
    "version": 3
   },
   "file_extension": ".py",
   "mimetype": "text/x-python",
   "name": "python",
   "nbconvert_exporter": "python",
   "pygments_lexer": "ipython3",
   "version": "3.11.5"
  }
 },
 "nbformat": 4,
 "nbformat_minor": 2
}
