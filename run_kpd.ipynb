{
 "cells": [
  {
   "cell_type": "code",
   "execution_count": 13,
   "metadata": {},
   "outputs": [
    {
     "name": "stdout",
     "output_type": "stream",
     "text": [
      "The autoreload extension is already loaded. To reload it, use:\n",
      "  %reload_ext autoreload\n"
     ]
    }
   ],
   "source": [
    "%load_ext autoreload\n",
    "%autoreload 2"
   ]
  },
  {
   "cell_type": "code",
   "execution_count": 14,
   "metadata": {},
   "outputs": [],
   "source": [
    "import openai\n",
    "import json\n"
   ]
  },
  {
   "cell_type": "code",
   "execution_count": 15,
   "metadata": {},
   "outputs": [],
   "source": [
    "ECON_DATA_PATH = 'openstax_scraper/output_econ.json'\n",
    "OUTPUT_PATH = 'generated_QA_pairs_econ.json'"
   ]
  },
  {
   "cell_type": "code",
   "execution_count": 16,
   "metadata": {},
   "outputs": [
    {
     "name": "stdout",
     "output_type": "stream",
     "text": [
      "724\n",
      "75\n",
      "75\n"
     ]
    }
   ],
   "source": [
    "econ_data = json.load(open(ECON_DATA_PATH))\n",
    "self_check_questions = []\n",
    "keyterms = []\n",
    "keyconceptsandsummary = []\n",
    "\n",
    "for item in econ_data:\n",
    "    if item['section_name'] == 'self-check-questions':\n",
    "        self_check_questions.append(item)\n",
    "    elif item['section_name'] == 'keyterms':\n",
    "        keyterms.append(item)\n",
    "    elif item['section_name'] == 'keyconceptsandsummary':\n",
    "        keyconceptsandsummary.append(item)\n",
    "\n",
    "print(len(self_check_questions))\n",
    "print(len(keyterms))\n",
    "print(len(keyconceptsandsummary))"
   ]
  },
  {
   "cell_type": "code",
   "execution_count": 53,
   "metadata": {},
   "outputs": [
    {
     "name": "stdout",
     "output_type": "stream",
     "text": [
      "number of keypoints: 4\n",
      "====================================================================================================\n",
      "\n",
      "        Task: Generate a concise and unified answer to the given question using the provided keypoints as guidelines.\n",
      "- Treat the directions as guiding principles, not as rigid rules.\n",
      "- Combine all elements into a single, cohesive paragraph.\n",
      "- Do not overanalyze or include your thought process.\n",
      "- Avoid summarizing at the end.\n",
      "\n",
      "        Question: \n",
      "11. \n",
      "\n",
      "  Use the demand-and-supply of foreign currency graph to determine what would happen to a small, open economy that experienced capital outflows.\n",
      "  \n",
      "\n",
      "        Keypoints:\n",
      "Capital outflows: Capital outflows refer to the movement of assets out of a country, which can affect the demand and supply of the country's currency.\n",
      "Demand for currency: Capital outflows decrease the demand for the country's currency because investors are moving their assets to other countries.\n",
      "Supply of currency: While the answer does not explicitly mention the supply of currency, it is implied that the supply remains constant or is less affected compared to the demand.\n",
      "Exchange rate: A decrease in the demand for the country's currency leads to a lower exchange rate, meaning the currency depreciates in value relative to other currencies.\n",
      "\n",
      "        \n",
      "====================================================================================================\n",
      "0\n",
      "{'analysis_1': \"To create a misleading keypoint, we need to provide information that is incorrect or partially correct but leads to a wrong conclusion. For example, we can state that capital outflows increase the demand for the country's currency, which is the opposite of what actually happens.\", 'analysis_2': \"By stating that capital outflows increase the demand for the country's currency, we mislead the reader into thinking that the currency would appreciate in value. This contradicts the actual economic principle where capital outflows decrease the demand for the currency, leading to depreciation.\", 'new_keypoint': 'Capital outflows', 'new_keypoint_detail': \"Capital outflows refer to the movement of assets out of a country, which can increase the demand for the country's currency as investors seek to convert their foreign assets back into the local currency.\", 'old_keypoint': 'Capital outflows', 'old_keypoint_detail': \"Capital outflows refer to the movement of assets out of a country, which can affect the demand and supply of the country's currency.\", 'real_old_keypoint': 'Capital outflows'}\n",
      "====================================================================================================\n",
      "\n",
      "        Task: Generate a concise and unified answer to the given question using the provided keypoints as guidelines.\n",
      "- Follow the main keypoint strictly.\n",
      "- Adjust or modify other keypoints only if they conflict with the main keypoint.\n",
      "- Treat the directions as guiding principles, not as rigid rules.\n",
      "- Combine all elements into a single, cohesive paragraph.\n",
      "- Do not overanalyze or include your thought process.\n",
      "- Avoid summarizing at the end.\n",
      "\n",
      "        Question: \n",
      "11. \n",
      "\n",
      "  Use the demand-and-supply of foreign currency graph to determine what would happen to a small, open economy that experienced capital outflows.\n",
      "  \n",
      "\n",
      "        Main Keypoint: \n",
      "Capital outflows: Capital outflows refer to the movement of assets out of a country, which can increase the demand for the country's currency as investors seek to convert their foreign assets back into the local currency.\n",
      "\n",
      "        Other Keypoints:\n",
      "Demand for currency: Capital outflows decrease the demand for the country's currency because investors are moving their assets to other countries.\n",
      "Supply of currency: While the answer does not explicitly mention the supply of currency, it is implied that the supply remains constant or is less affected compared to the demand.\n",
      "Exchange rate: A decrease in the demand for the country's currency leads to a lower exchange rate, meaning the currency depreciates in value relative to other currencies.\n",
      "\n",
      "        \n",
      "====================================================================================================\n",
      "1\n",
      "{'analysis_1': 'To create a misleading keypoint, we need to provide information that is incorrect or partially correct but leads to a wrong conclusion. In this case, we can manipulate the description of the exchange rate to suggest an outcome that is not accurate.', 'analysis_2': \"By altering the description to imply that a decrease in demand for the country's currency leads to an increase in the exchange rate, we can mislead the reader into thinking that the currency appreciates in value, which is the opposite of what actually happens.\", 'new_keypoint': 'Exchange rate', 'new_keypoint_detail': \"A decrease in the demand for the country's currency leads to a higher exchange rate, meaning the currency appreciates in value relative to other currencies.\", 'old_keypoint': 'Exchange rate', 'old_keypoint_detail': \"A decrease in the demand for the country's currency leads to a lower exchange rate, meaning the currency depreciates in value relative to other currencies.\", 'real_old_keypoint': 'Exchange rate'}\n",
      "====================================================================================================\n",
      "\n",
      "        Task: Generate a concise and unified answer to the given question using the provided keypoints as guidelines.\n",
      "- Follow the main keypoint strictly.\n",
      "- Adjust or modify other keypoints only if they conflict with the main keypoint.\n",
      "- Treat the directions as guiding principles, not as rigid rules.\n",
      "- Combine all elements into a single, cohesive paragraph.\n",
      "- Do not overanalyze or include your thought process.\n",
      "- Avoid summarizing at the end.\n",
      "\n",
      "        Question: \n",
      "11. \n",
      "\n",
      "  Use the demand-and-supply of foreign currency graph to determine what would happen to a small, open economy that experienced capital outflows.\n",
      "  \n",
      "\n",
      "        Main Keypoint: \n",
      "Exchange rate: A decrease in the demand for the country's currency leads to a higher exchange rate, meaning the currency appreciates in value relative to other currencies.\n",
      "\n",
      "        Other Keypoints:\n",
      "Capital outflows: Capital outflows refer to the movement of assets out of a country, which can affect the demand and supply of the country's currency.\n",
      "Demand for currency: Capital outflows decrease the demand for the country's currency because investors are moving their assets to other countries.\n",
      "Supply of currency: While the answer does not explicitly mention the supply of currency, it is implied that the supply remains constant or is less affected compared to the demand.\n",
      "\n",
      "        \n",
      "====================================================================================================\n",
      "2\n",
      "{'analysis_1': \"To create a misleading keypoint, we need to provide information that contradicts or misguides the understanding of the economic impact of capital outflows on the demand for the country's currency. Instead of stating that capital outflows decrease the demand for the currency, we can misleadingly state that capital outflows increase the demand for the currency.\", 'analysis_2': \"By suggesting that capital outflows increase the demand for the country's currency, we mislead the reader into thinking that investors moving their assets out of the country would somehow make the currency more desirable. This contradicts the basic economic principle that capital outflows typically reduce demand for the currency as investors seek to invest elsewhere.\", 'new_keypoint': 'Demand for currency', 'new_keypoint_detail': \"Capital outflows increase the demand for the country's currency because investors are moving their assets to other countries.\", 'old_keypoint': 'Demand for currency', 'old_keypoint_detail': \"Capital outflows decrease the demand for the country's currency because investors are moving their assets to other countries.\", 'real_old_keypoint': 'Demand for currency'}\n",
      "====================================================================================================\n",
      "\n",
      "        Task: Generate a concise and unified answer to the given question using the provided keypoints as guidelines.\n",
      "- Follow the main keypoint strictly.\n",
      "- Adjust or modify other keypoints only if they conflict with the main keypoint.\n",
      "- Treat the directions as guiding principles, not as rigid rules.\n",
      "- Combine all elements into a single, cohesive paragraph.\n",
      "- Do not overanalyze or include your thought process.\n",
      "- Avoid summarizing at the end.\n",
      "\n",
      "        Question: \n",
      "11. \n",
      "\n",
      "  Use the demand-and-supply of foreign currency graph to determine what would happen to a small, open economy that experienced capital outflows.\n",
      "  \n",
      "\n",
      "        Main Keypoint: \n",
      "Demand for currency: Capital outflows increase the demand for the country's currency because investors are moving their assets to other countries.\n",
      "\n",
      "        Other Keypoints:\n",
      "Capital outflows: Capital outflows refer to the movement of assets out of a country, which can affect the demand and supply of the country's currency.\n",
      "Supply of currency: While the answer does not explicitly mention the supply of currency, it is implied that the supply remains constant or is less affected compared to the demand.\n",
      "Exchange rate: A decrease in the demand for the country's currency leads to a lower exchange rate, meaning the currency depreciates in value relative to other currencies.\n",
      "\n",
      "        \n",
      "====================================================================================================\n"
     ]
    }
   ],
   "source": [
    "from KPDistorter import kpdistorter\n",
    "\n",
    "client = openai.AzureOpenAI(api_version='2024-06-01')\n",
    "kpd = kpdistorter.KeyPointDistorter(client, seed=42)\n",
    "\n",
    "generated_QA_pairs = []\n",
    "\n",
    "for question in self_check_questions:\n",
    "    mcq, correct_answer = kpd.convert_to_MCQ(question)\n",
    "    generated_QA_pairs.append({ \n",
    "        'mcq': mcq, \n",
    "        'correct_answer': correct_answer,\n",
    "        'type': 'self-check-questions',\n",
    "        'chapter_name': question['chapter_name'],\n",
    "        'textbook_name': question['textbook_name'],\n",
    "        'chapter_url': question['chapter_url'],\n",
    "        'question': question['question'],\n",
    "        'answer': question['answer']\n",
    "        })\n",
    "    break\n",
    "\n",
    "json.dump(generated_QA_pairs, open(OUTPUT_PATH, 'w'))\n"
   ]
  },
  {
   "cell_type": "code",
   "execution_count": 54,
   "metadata": {},
   "outputs": [],
   "source": [
    "# tmp ={'analysis_1': 'To create a misleading keypoint, we need to provide information that is incorrect or irrelevant to the context of the question. The selected keypoint should be altered in a way that it misguides the reader about the actual impact of capital outflows on the demand-and-supply graph for foreign currency.', 'analysis_2': \"A misleading keypoint can be created by suggesting that capital outflows would increase the demand for the country's currency, which is the opposite of what actually happens. This would confuse the reader and lead them to incorrect conclusions about the exchange rate and the overall economic impact.\", 'new_keypoint': 'Supply and Demand Graph', 'new_keypoint_detail': \"The demand-and-supply graph for foreign currency illustrates how the demand and supply of a currency determine its exchange rate. In the case of capital outflows, the demand for the country's currency increases, shifting the demand curve to the right.\", 'old_keypoint': 'Supply and Demand Graph', 'old_keypoint_detail': 'The demand-and-supply graph for foreign currency illustrates how the demand and supply of a currency determine its exchange rate.', 'real_old_keypoint': 'Supply and Demand Graph'}\n",
    "\n",
    "# tmp"
   ]
  },
  {
   "cell_type": "code",
   "execution_count": 58,
   "metadata": {},
   "outputs": [
    {
     "name": "stdout",
     "output_type": "stream",
     "text": [
      "\n",
      "11. \n",
      "\n",
      "  Use the demand-and-supply of foreign currency graph to determine what would happen to a small, open economy that experienced capital outflows.\n",
      "  \n",
      "\n",
      "A: In a small, open economy experiencing capital outflows, the demand for the country's currency decreases as investors move their assets to other countries. This reduction in demand, while the supply of the currency remains relatively constant, leads to a depreciation of the currency's value, resulting in a lower exchange rate relative to other currencies.\n",
      "B: In a small, open economy experiencing capital outflows, the demand for the country's currency decreases as investors move their assets to other countries. This reduced demand for the currency leads to a depreciation in its value, resulting in a lower exchange rate relative to other currencies.\n",
      "C: In a small, open economy experiencing capital outflows, the demand for the country's currency decreases as investors move their assets to other countries. This reduction in demand leads to a higher exchange rate, meaning the currency appreciates in value relative to other currencies.\n",
      "D: In a small, open economy experiencing capital outflows, the demand for the country's currency increases as investors move their assets to other countries. This movement of assets, known as capital outflows, affects the demand and supply dynamics of the currency. While the supply of the currency remains relatively constant or is less affected, the increased demand for foreign currency leads to a depreciation of the local currency's exchange rate, causing it to lose value relative to other currencies.\n",
      "\n"
     ]
    }
   ],
   "source": [
    "print(mcq)"
   ]
  },
  {
   "cell_type": "code",
   "execution_count": 59,
   "metadata": {},
   "outputs": [
    {
     "data": {
      "text/plain": [
       "'A'"
      ]
     },
     "execution_count": 59,
     "metadata": {},
     "output_type": "execute_result"
    }
   ],
   "source": [
    "correct_answer"
   ]
  },
  {
   "cell_type": "code",
   "execution_count": 57,
   "metadata": {},
   "outputs": [
    {
     "data": {
      "text/plain": [
       "'\\n11. \\n\\n  Use the demand-and-supply of foreign currency graph to determine what would happen to a small, open economy that experienced capital outflows.\\n  \\n'"
      ]
     },
     "execution_count": 57,
     "metadata": {},
     "output_type": "execute_result"
    }
   ],
   "source": [
    "question['question']"
   ]
  },
  {
   "cell_type": "code",
   "execution_count": 8,
   "metadata": {},
   "outputs": [
    {
     "data": {
      "text/plain": [
       "'11. \\n\\n  The demand for the country’s currency would decrease, lowering the exchange rate.\\n  \\n'"
      ]
     },
     "execution_count": 8,
     "metadata": {},
     "output_type": "execute_result"
    }
   ],
   "source": [
    "question['answer']"
   ]
  },
  {
   "cell_type": "code",
   "execution_count": null,
   "metadata": {},
   "outputs": [],
   "source": []
  }
 ],
 "metadata": {
  "kernelspec": {
   "display_name": "FSIL",
   "language": "python",
   "name": "python3"
  },
  "language_info": {
   "codemirror_mode": {
    "name": "ipython",
    "version": 3
   },
   "file_extension": ".py",
   "mimetype": "text/x-python",
   "name": "python",
   "nbconvert_exporter": "python",
   "pygments_lexer": "ipython3",
   "version": "3.9.19"
  }
 },
 "nbformat": 4,
 "nbformat_minor": 2
}
