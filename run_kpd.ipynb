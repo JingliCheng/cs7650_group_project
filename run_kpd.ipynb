{
 "cells": [
  {
   "cell_type": "code",
   "execution_count": 1,
   "metadata": {},
   "outputs": [],
   "source": [
    "%load_ext autoreload\n",
    "%autoreload 2"
   ]
  },
  {
   "cell_type": "code",
   "execution_count": 2,
   "metadata": {},
   "outputs": [],
   "source": [
    "import openai\n",
    "import json\n",
    "from tqdm import tqdm\n"
   ]
  },
  {
   "cell_type": "code",
   "execution_count": 3,
   "metadata": {},
   "outputs": [],
   "source": [
    "ECON_DATA_PATH = 'openstax_scraper/output_econ.json'\n",
    "GENERATED_QA_PATH = 'generated_QA_pairs_econ.json'"
   ]
  },
  {
   "cell_type": "code",
   "execution_count": 4,
   "metadata": {},
   "outputs": [
    {
     "name": "stdout",
     "output_type": "stream",
     "text": [
      "724\n",
      "75\n",
      "75\n"
     ]
    }
   ],
   "source": [
    "econ_data = json.load(open(ECON_DATA_PATH))\n",
    "self_check_questions = []\n",
    "keyterms = []\n",
    "keyconceptsandsummary = []\n",
    "\n",
    "for item in econ_data:\n",
    "    if item['section_name'] == 'self-check-questions':\n",
    "        self_check_questions.append(item)\n",
    "    elif item['section_name'] == 'keyterms':\n",
    "        keyterms.append(item)\n",
    "    elif item['section_name'] == 'keyconceptsandsummary':\n",
    "        keyconceptsandsummary.append(item)\n",
    "\n",
    "print(len(self_check_questions))\n",
    "print(len(keyterms))\n",
    "print(len(keyconceptsandsummary))"
   ]
  },
  {
   "cell_type": "code",
   "execution_count": 5,
   "metadata": {},
   "outputs": [
    {
     "name": "stderr",
     "output_type": "stream",
     "text": [
      "Processing questions:   2%|▏         | 11/724 [02:25<2:36:56, 13.21s/it]\n"
     ]
    }
   ],
   "source": [
    "from KPDistorter import kpdistorter\n",
    "\n",
    "client = openai.AzureOpenAI(api_version='2024-06-01')\n",
    "kpd = kpdistorter.KeyPointDistorter(client, model='gpt-4o-mini', seed=42)\n",
    "\n",
    "generated_QA_pairs = []\n",
    "\n",
    "# count = 0\n",
    "for question in tqdm(self_check_questions, desc=\"Processing questions\"):\n",
    "    choices, correct_answer, prompt_and_response = kpd.convert_to_MCQ_v2(question)\n",
    "    generated_QA_pairs.append({ \n",
    "        'choices': choices,\n",
    "        'correct_answer': correct_answer,\n",
    "        'type': 'self-check-questions',\n",
    "        'chapter_name': question['chapter_name'],\n",
    "        'textbook_name': question['textbook_name'],\n",
    "        'chapter_url': question['chapter_url'],\n",
    "        'question': question['question'],\n",
    "        'answer': question['answer'],\n",
    "        'prompt_and_response': prompt_and_response,\n",
    "        })\n",
    "    # if count > 10:\n",
    "    #     break\n",
    "    # count += 1\n",
    "\n",
    "json.dump(generated_QA_pairs, open(GENERATED_QA_PATH, 'w'))"
   ]
  },
  {
   "cell_type": "code",
   "execution_count": null,
   "metadata": {},
   "outputs": [],
   "source": []
  }
 ],
 "metadata": {
  "kernelspec": {
   "display_name": "FSIL",
   "language": "python",
   "name": "python3"
  },
  "language_info": {
   "codemirror_mode": {
    "name": "ipython",
    "version": 3
   },
   "file_extension": ".py",
   "mimetype": "text/x-python",
   "name": "python",
   "nbconvert_exporter": "python",
   "pygments_lexer": "ipython3",
   "version": "3.9.19"
  }
 },
 "nbformat": 4,
 "nbformat_minor": 2
}
