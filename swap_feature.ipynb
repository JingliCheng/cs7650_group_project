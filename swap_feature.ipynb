{
 "cells": [
  {
   "cell_type": "code",
   "execution_count": 1,
   "metadata": {},
   "outputs": [],
   "source": [
    "import json\n",
    "import os\n",
    "import openai\n",
    "import random\n",
    "import copy\n",
    "\n",
    "\n",
    "# client = openai.OpenAI()"
   ]
  },
  {
   "cell_type": "code",
   "execution_count": 2,
   "metadata": {},
   "outputs": [],
   "source": [
    "current_question = {\n",
    "    \"section_name\": \"self-check-questions\",\n",
    "    \"section_text\": \"Question: \\n2. \\n\\n  What are the drawbacks to analyzing the global economy on a regional basis?\\n  \\n Answer: 2. \\n\\n  A region can have some of high-income countries and some of the low-income countries. Aggregating per capita real GDP will vary widely across countries within a region, so aggregating data for a region has little meaning. For example, if you were to compare per capital real GDP for the United States, Canada, Haiti, and Honduras, it looks much different than if you looked at the same data for North America as a whole. Thus, regional comparisons are broad-based and may not adequately capture an individual country’s economic attributes.\\n  \\n\",\n",
    "    \"chapter_name\": \"32-self-check-questions\",\n",
    "    \"textbook_name\": \"principles-economics-3e\",\n",
    "    \"chapter_url\": \"https://openstax.org/books/principles-economics-3e/pages/32-self-check-questions\",\n",
    "    \"question\": \"\\n2. \\n\\n  What are the drawbacks to analyzing the global economy on a regional basis?\\n  \\n\",\n",
    "    \"answer\": \"2. \\n\\n  A region can have some of high-income countries and some of the low-income countries. Aggregating per capita real GDP will vary widely across countries within a region, so aggregating data for a region has little meaning. For example, if you were to compare per capital real GDP for the United States, Canada, Haiti, and Honduras, it looks much different than if you looked at the same data for North America as a whole. Thus, regional comparisons are broad-based and may not adequately capture an individual country’s economic attributes.\\n  \\n\"\n",
    "}"
   ]
  },
  {
   "cell_type": "code",
   "execution_count": 59,
   "metadata": {},
   "outputs": [],
   "source": [
    "prompt_extract_features = f\"\"\"\n",
    "Question: {current_question['question']}\n",
    "Gold Answer: {current_question['answer']}\n",
    "Your task: Think about the question and understand the answer first, then extract complete bullet points that are keyfeatures based on the answer for rebuilding the answer from scratch for the same question, more features will be helpful.\n",
    "Return a JSON object in this exact format:\n",
    "        {{\n",
    "            \"Analysis\": \"Analysis of the question, answer, and the features\",\n",
    "            \"Features\": [\n",
    "                {{\"feature\": \"string\", \"detail\": \"string\"}},\n",
    "                {{\"feature\": \"string\", \"detail\": \"string\"}},\n",
    "                ... and so on, until all features are covered.\n",
    "            ]\n",
    "        }}\n",
    "\"\"\"\n",
    "temperature = 0.0\n",
    "\n",
    "response_extract_features = client.chat.completions.create(\n",
    "            model=\"gpt-4o\",\n",
    "            messages=[\n",
    "                # {\"role\": \"system\", \"content\": \"You are an economics export and a knowledgeable teacher. Think concisely and precisely. If you meet difficulty, ask for clarification. pause and think deeply before you answer.\"},\n",
    "                {\"role\": \"user\", \"content\": prompt_extract_features}\n",
    "            ],\n",
    "            temperature=temperature,\n",
    "            # max_tokens=2000,\n",
    "            response_format={\"type\": \"json_object\"}\n",
    "        )\n",
    "\n",
    "gpt_answer_extract_features = response_extract_features.choices[0].message.content\n",
    "json_extract_features = json.loads(gpt_answer_extract_features)\n"
   ]
  },
  {
   "cell_type": "code",
   "execution_count": 60,
   "metadata": {},
   "outputs": [
    {
     "name": "stdout",
     "output_type": "stream",
     "text": [
      "[{'feature': 'Example of North America', 'detail': 'The example of the United States, Canada, Haiti, and Honduras shows how diverse economies within a region can affect aggregate data.'}, {'feature': 'Misleading Comparisons', 'detail': 'Comparing regional data can be misleading as it may not reflect the true economic conditions of individual countries.'}, {'feature': 'Economic Disparity', 'detail': 'Regions can include both high-income and low-income countries, leading to significant economic disparity.'}]\n"
     ]
    }
   ],
   "source": [
    "# random choice 3 feature\n",
    "random_features = random.sample(json_extract_features['Features'], k=3)\n",
    "print(random_features)\n"
   ]
  },
  {
   "cell_type": "code",
   "execution_count": 5,
   "metadata": {},
   "outputs": [
    {
     "data": {
      "text/plain": [
       "[{'feature': 'Broad-based Analysis',\n",
       "  'detail': 'Regional analysis tends to be broad and may not capture specific economic characteristics of countries within the region.'},\n",
       " {'feature': 'Data Aggregation',\n",
       "  'detail': 'Aggregating per capita real GDP across countries within a region can result in data that lacks meaningful insights.'},\n",
       " {'feature': 'Example of North America',\n",
       "  'detail': 'The example of the United States, Canada, Haiti, and Honduras illustrates how regional data can mask individual country differences.'}]"
      ]
     },
     "execution_count": 5,
     "metadata": {},
     "output_type": "execute_result"
    }
   ],
   "source": [
    "random_features"
   ]
  },
  {
   "cell_type": "code",
   "execution_count": 6,
   "metadata": {},
   "outputs": [],
   "source": [
    "prompt_swap_feature_p1 = f\"\"\"\n",
    "Task: For the selected feature, what is a misleading direction of the feature for the question. \\\n",
    "Modify or rewrite the feature to create a misleading feature. Keep other features the same.\n",
    "Question: {current_question['question']}\n",
    "\"\"\"\n",
    "\n",
    "\n",
    "prompt_swap_feature_p3 = f\"\"\"\n",
    "Return a JSON object in this exact format:\n",
    "        {{\n",
    "            \"analysis_1\": \"How the misleading feature can be created. Think step by step.\",\n",
    "            \"analysis_2\": \"Think deeper.\",\n",
    "            \"new_feature\": \"string\",\n",
    "            \"new_feature_detail\": \"string\",\n",
    "            \"old_feature\": \"string\",\n",
    "            ]\n",
    "        }}\n",
    "\"\"\""
   ]
  },
  {
   "cell_type": "code",
   "execution_count": 7,
   "metadata": {},
   "outputs": [
    {
     "name": "stdout",
     "output_type": "stream",
     "text": [
      "0th feature: {'feature': 'Broad-based Analysis', 'detail': 'Regional analysis tends to be broad and may not capture specific economic characteristics of countries within the region.'}\n",
      "1th feature: {'feature': 'Data Aggregation', 'detail': 'Aggregating per capita real GDP across countries within a region can result in data that lacks meaningful insights.'}\n",
      "2th feature: {'feature': 'Example of North America', 'detail': 'The example of the United States, Canada, Haiti, and Honduras illustrates how regional data can mask individual country differences.'}\n"
     ]
    }
   ],
   "source": [
    "swapped_feature_list = []\n",
    "\n",
    "count = 0\n",
    "for feature in random_features:\n",
    "    print(f'{count}th feature: {feature}')\n",
    "    count += 1\n",
    "    prompt_swap_feature_p2 = ''\n",
    "    prompt_swap_feature_p2 += f\"Selected Feature: {feature['feature']}. Description: {feature['detail']}\\n\"\n",
    "    # construct the prompt with the selected feature and the other unselected features\n",
    "    for other_feature in json_extract_features['Features']:\n",
    "        if feature['feature'] != other_feature['feature']:\n",
    "            prompt_swap_feature_p2 += f\"Other Feature: {other_feature['feature']}. Description: {other_feature['detail']}\\n\"\n",
    "\n",
    "    prompt_swap_feature = prompt_swap_feature_p1 + prompt_swap_feature_p2 + prompt_swap_feature_p3\n",
    "\n",
    "    response_swap_feature = client.chat.completions.create(\n",
    "        model=\"gpt-4o\",\n",
    "        messages=[\n",
    "            {\"role\": \"user\", \"content\": prompt_swap_feature}\n",
    "        ],\n",
    "        temperature=temperature,\n",
    "        response_format={\"type\": \"json_object\"}\n",
    "    )\n",
    "    gpt_answer_swap_feature = response_swap_feature.choices[0].message.content\n",
    "    swapped_feature_list.append(gpt_answer_swap_feature)\n"
   ]
  },
  {
   "cell_type": "code",
   "execution_count": 8,
   "metadata": {},
   "outputs": [
    {
     "data": {
      "text/plain": [
       "{'analysis_1': 'To create a misleading feature, we can focus on the idea that regional analysis provides a comprehensive understanding of economic trends. By emphasizing the broad-based nature of regional analysis, we can suggest that it captures all necessary economic characteristics, which can mislead one into thinking that regional analysis is sufficient for understanding the global economy.',\n",
       " 'analysis_2': \"By overstating the comprehensiveness of regional analysis, we ignore the nuances and specific economic conditions of individual countries. This can lead to a false sense of security in the data's accuracy and applicability, potentially resulting in misguided economic policies or strategies.\",\n",
       " 'new_feature': 'Comprehensive Regional Insight',\n",
       " 'new_feature_detail': 'Regional analysis provides a complete and thorough understanding of economic trends, capturing all necessary economic characteristics of the countries within the region.',\n",
       " 'old_feature': 'Broad-based Analysis'}"
      ]
     },
     "execution_count": 8,
     "metadata": {},
     "output_type": "execute_result"
    }
   ],
   "source": [
    "temp = json.loads(swapped_feature_list[0])\n",
    "temp\n"
   ]
  },
  {
   "cell_type": "code",
   "execution_count": 9,
   "metadata": {},
   "outputs": [
    {
     "data": {
      "text/plain": [
       "[[{'feature': 'Economic Diversity',\n",
       "   'detail': 'Regions can include both high-income and low-income countries, leading to significant variability in economic data.'},\n",
       "  {'feature': 'Data Aggregation',\n",
       "   'detail': 'Aggregating per capita real GDP across countries within a region can result in data that lacks meaningful insights.'},\n",
       "  {'feature': 'Misleading Comparisons',\n",
       "   'detail': 'Regional comparisons may not accurately reflect the economic attributes of individual countries.'},\n",
       "  {'feature': 'Example of North America',\n",
       "   'detail': 'The example of the United States, Canada, Haiti, and Honduras illustrates how regional data can mask individual country differences.'},\n",
       "  {'feature': 'Comprehensive Regional Insight',\n",
       "   'detail': 'Regional analysis provides a complete and thorough understanding of economic trends, capturing all necessary economic characteristics of the countries within the region.'}],\n",
       " [{'feature': 'Economic Diversity',\n",
       "   'detail': 'Regions can include both high-income and low-income countries, leading to significant variability in economic data.'},\n",
       "  {'feature': 'Selective Data Aggregation',\n",
       "   'detail': \"Aggregating GDP data by selectively emphasizing certain countries can lead to skewed insights that misrepresent the region's economic status.\"},\n",
       "  {'feature': 'Misleading Comparisons',\n",
       "   'detail': 'Regional comparisons may not accurately reflect the economic attributes of individual countries.'},\n",
       "  {'feature': 'Example of North America',\n",
       "   'detail': 'The example of the United States, Canada, Haiti, and Honduras illustrates how regional data can mask individual country differences.'},\n",
       "  {'feature': 'Broad-based Analysis',\n",
       "   'detail': 'Regional analysis tends to be broad and may not capture specific economic characteristics of countries within the region.'}],\n",
       " [{'feature': 'Economic Diversity',\n",
       "   'detail': 'Regions can include both high-income and low-income countries, leading to significant variability in economic data.'},\n",
       "  {'feature': 'Data Aggregation',\n",
       "   'detail': 'Aggregating per capita real GDP across countries within a region can result in data that lacks meaningful insights.'},\n",
       "  {'feature': 'Misleading Comparisons',\n",
       "   'detail': 'Regional comparisons may not accurately reflect the economic attributes of individual countries.'},\n",
       "  {'feature': 'Regional Economic Integration',\n",
       "   'detail': 'Regional analysis highlights the benefits of economic integration, such as increased trade and investment opportunities, which can overshadow the individual economic challenges faced by countries within the region.'},\n",
       "  {'feature': 'Broad-based Analysis',\n",
       "   'detail': 'Regional analysis tends to be broad and may not capture specific economic characteristics of countries within the region.'}]]"
      ]
     },
     "execution_count": 9,
     "metadata": {},
     "output_type": "execute_result"
    }
   ],
   "source": [
    "# for each swapped feature, find the corresponding feature in the original features, and swap the feature and detail\n",
    "new_features_list  = []\n",
    "\n",
    "for swapped_feature in swapped_feature_list:\n",
    "    new_feature = json.loads(swapped_feature)\n",
    "    # copy the original features\n",
    "    new_features = copy.deepcopy(json_extract_features['Features'])\n",
    "    for feature in new_features:\n",
    "        if feature['feature'] == new_feature['old_feature']:\n",
    "            feature['feature'] = new_feature['new_feature']\n",
    "            feature['detail'] = new_feature['new_feature_detail']\n",
    "    new_features_list.append(new_features)\n",
    "\n",
    "new_features_list"
   ]
  },
  {
   "cell_type": "code",
   "execution_count": 32,
   "metadata": {},
   "outputs": [
    {
     "name": "stdout",
     "output_type": "stream",
     "text": [
      "============================================================\n",
      "Analyzing the global economy on a regional basis presents several drawbacks. One major issue is economic diversity, as regions often encompass both high-income and low-income countries, leading to significant variability in economic data. This diversity can result in data aggregation challenges, where per capita real GDP figures are averaged across countries within a region, potentially obscuring meaningful insights. Such aggregation can lead to misleading comparisons, as regional data may not accurately reflect the unique economic attributes of individual countries. For instance, in North America, the economic realities of the United States and Canada differ greatly from those of Haiti and Honduras, yet regional analysis might mask these differences. While regional analysis aims to provide a comprehensive understanding of economic trends by capturing the economic characteristics of all countries within a region, it often fails to account for the nuanced economic conditions of each country, leading to oversimplified conclusions.\n",
      "============================================================\n",
      "Analyzing the global economy on a regional basis presents several drawbacks. One major issue is economic diversity, as regions often encompass both high-income and low-income countries, leading to significant variability in economic data. This diversity can result in selective data aggregation, where emphasizing certain countries over others can skew insights and misrepresent the region's overall economic status. Additionally, regional comparisons may be misleading, as they do not accurately reflect the unique economic attributes of individual countries. For instance, in North America, the economic data of the United States and Canada can overshadow the economic realities of countries like Haiti and Honduras, masking their distinct challenges and opportunities. Furthermore, broad-based regional analysis tends to overlook specific economic characteristics and nuances of countries within the region, potentially leading to oversimplified conclusions and ineffective policy recommendations.\n",
      "============================================================\n",
      "Analyzing the global economy on a regional basis presents several drawbacks. Economic diversity within regions, which often include both high-income and low-income countries, can lead to significant variability in economic data, making it difficult to draw meaningful conclusions. When per capita real GDP is aggregated across countries within a region, the resulting data may lack depth and fail to provide valuable insights into individual economies. This can lead to misleading comparisons, as regional analyses may not accurately reflect the unique economic attributes of each country. Furthermore, while regional economic integration can highlight benefits such as increased trade and investment opportunities, it can also overshadow the specific economic challenges faced by individual countries. Overall, regional analysis tends to be broad and may not capture the distinct economic characteristics of countries within the region, limiting its effectiveness in understanding the global economy.\n"
     ]
    }
   ],
   "source": [
    "# for each new_features, construct the prompt of the question with the new features\n",
    "\n",
    "prompt_generate_choice_p1 = f\"\"\"\n",
    "Features:\n",
    "\"\"\"\n",
    "\n",
    "prompt_generate_choice_p2 = f\"\"\"\n",
    "Task: Generate the answer for the given question with the given features, all of them are high level features and you need follow the directions\n",
    "Question: {current_question['question']}\n",
    "You do not need absolutely follow the directions, use the directions as a guide. aggregate the all the separate answers into a comprehensive answer in one paragraph. Do not need to do summary in the end.\n",
    "\"\"\"\n",
    "\n",
    "answer_list = []\n",
    "\n",
    "# generate the answer with the original features\n",
    "prompt_generate_choice = ''\n",
    "for temp in json_extract_features['Features']:\n",
    "    temp_str = f\"{temp['feature']}: {temp['detail']} \\n\"\n",
    "    prompt_generate_choice += temp_str\n",
    "prompt_generate_choice = prompt_generate_choice_p1 + prompt_generate_choice\n",
    "prompt_generate_choice = prompt_generate_choice + prompt_generate_choice_p2\n",
    "\n",
    "response_generate_choice = client.chat.completions.create(\n",
    "    model=\"gpt-4o\",\n",
    "    messages=[{\"role\": \"user\", \"content\": prompt_generate_choice}],\n",
    "    temperature=temperature,\n",
    ")\n",
    "\n",
    "gpt_answer_generate_choice = response_generate_choice.choices[0].message.content\n",
    "answer_list.append(gpt_answer_generate_choice)\n",
    "\n",
    "# generate the answer with the new features\n",
    "for new_features in new_features_list:\n",
    "    prompt_generate_choice = ''\n",
    "    for temp in new_features:\n",
    "        temp_str = f\"{temp['feature']}: {temp['detail']} \\n\"\n",
    "        prompt_generate_choice += temp_str\n",
    "    prompt_generate_choice = prompt_generate_choice_p1 + prompt_generate_choice\n",
    "    prompt_generate_choice = prompt_generate_choice + prompt_generate_choice_p2\n",
    "    #print(prompt_generate_choice)\n",
    "    \n",
    "    # generate the answer\n",
    "    response_generate_choice = client.chat.completions.create(\n",
    "        model=\"gpt-4o\",\n",
    "        messages=[{\"role\": \"user\", \"content\": prompt_generate_choice}],\n",
    "        temperature=temperature,\n",
    "    )\n",
    "\n",
    "    gpt_answer_generate_choice = response_generate_choice.choices[0].message.content\n",
    "    print('==='*20)\n",
    "    print(gpt_answer_generate_choice)\n",
    "    answer_list.append(gpt_answer_generate_choice)\n"
   ]
  },
  {
   "cell_type": "code",
   "execution_count": 34,
   "metadata": {},
   "outputs": [],
   "source": [
    "\n",
    "import random\n",
    "\n",
    "def shuffle_and_track_first_index(lst):\n",
    "    # Store the first element\n",
    "    first_element = lst[0]\n",
    "    \n",
    "    # Shuffle the list\n",
    "    random.shuffle(lst)\n",
    "    \n",
    "    # Find the new index of the original first element\n",
    "    new_index = lst.index(first_element)\n",
    "    \n",
    "    return lst, new_index\n",
    "\n"
   ]
  },
  {
   "cell_type": "code",
   "execution_count": 54,
   "metadata": {},
   "outputs": [
    {
     "name": "stdout",
     "output_type": "stream",
     "text": [
      "3\n"
     ]
    }
   ],
   "source": [
    "new_suffle_answer_list, new_index = shuffle_and_track_first_index(answer_list)\n",
    "\n",
    "print(new_index)"
   ]
  },
  {
   "cell_type": "code",
   "execution_count": 55,
   "metadata": {},
   "outputs": [
    {
     "name": "stdout",
     "output_type": "stream",
     "text": [
      "\n",
      "2. \n",
      "\n",
      "  What are the drawbacks to analyzing the global economy on a regional basis?\n",
      "  \n",
      "\n",
      "A: Analyzing the global economy on a regional basis presents several drawbacks. One major issue is economic diversity, as regions often encompass both high-income and low-income countries, leading to significant variability in economic data. This diversity can result in selective data aggregation, where emphasizing certain countries over others can skew insights and misrepresent the region's overall economic status. Additionally, regional comparisons may be misleading, as they do not accurately reflect the unique economic attributes of individual countries. For instance, in North America, the economic data of the United States and Canada can overshadow the economic realities of countries like Haiti and Honduras, masking their distinct challenges and opportunities. Furthermore, broad-based regional analysis tends to overlook specific economic characteristics and nuances of countries within the region, potentially leading to oversimplified conclusions and ineffective policy recommendations.\n",
      "\n",
      "B: Analyzing the global economy on a regional basis presents several drawbacks. One major issue is economic diversity, as regions often encompass both high-income and low-income countries, leading to significant variability in economic data. This diversity can result in data aggregation challenges, where per capita real GDP figures are averaged across countries within a region, potentially obscuring meaningful insights. Such aggregation can lead to misleading comparisons, as regional data may not accurately reflect the unique economic attributes of individual countries. For instance, in North America, the economic realities of the United States and Canada differ greatly from those of Haiti and Honduras, yet regional analysis might mask these differences. While regional analysis aims to provide a comprehensive understanding of economic trends by capturing the economic characteristics of all countries within a region, it often fails to account for the nuanced economic conditions of each country, leading to oversimplified conclusions.\n",
      "\n",
      "C: Analyzing the global economy on a regional basis presents several drawbacks. One major issue is economic diversity, as regions often encompass both high-income and low-income countries, leading to significant variability in economic data. This diversity can result in data aggregation that lacks meaningful insights, as aggregating per capita real GDP across countries within a region may obscure the economic realities of individual nations. Such aggregation can lead to misleading comparisons, where regional data fails to accurately reflect the unique economic attributes of each country. For instance, in North America, the economic conditions of the United States and Canada differ vastly from those of Haiti and Honduras, yet regional analysis might mask these differences. Consequently, regional analysis tends to be broad and may not capture the specific economic characteristics and challenges faced by individual countries within the region, limiting the depth and accuracy of economic insights.\n",
      "\n",
      "D: Analyzing the global economy on a regional basis presents several drawbacks. Economic diversity within regions, which often include both high-income and low-income countries, can lead to significant variability in economic data, making it difficult to draw meaningful conclusions. When per capita real GDP is aggregated across countries within a region, the resulting data may lack depth and fail to provide valuable insights into individual economies. This can lead to misleading comparisons, as regional analyses may not accurately reflect the unique economic attributes of each country. Furthermore, while regional economic integration can highlight benefits such as increased trade and investment opportunities, it can also overshadow the specific economic challenges faced by individual countries. Overall, regional analysis tends to be broad and may not capture the distinct economic characteristics of countries within the region, limiting its effectiveness in understanding the global economy.\n",
      "\n"
     ]
    }
   ],
   "source": [
    "print(current_question['question'])\n",
    "for i, c in enumerate('ABCD'):\n",
    "    print(f'{c}: {new_suffle_answer_list[i]}\\n')\n",
    "\n",
    "\n"
   ]
  },
  {
   "cell_type": "code",
   "execution_count": null,
   "metadata": {},
   "outputs": [],
   "source": []
  }
 ],
 "metadata": {
  "kernelspec": {
   "display_name": "sec-10-k",
   "language": "python",
   "name": "python3"
  },
  "language_info": {
   "codemirror_mode": {
    "name": "ipython",
    "version": 3
   },
   "file_extension": ".py",
   "mimetype": "text/x-python",
   "name": "python",
   "nbconvert_exporter": "python",
   "pygments_lexer": "ipython3",
   "version": "3.11.9"
  }
 },
 "nbformat": 4,
 "nbformat_minor": 2
}
