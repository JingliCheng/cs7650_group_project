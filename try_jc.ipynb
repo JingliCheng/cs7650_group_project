{
 "cells": [
  {
   "cell_type": "code",
   "execution_count": 2,
   "metadata": {},
   "outputs": [],
   "source": [
    "import json\n",
    "import os\n",
    "import openai\n",
    "client = openai.OpenAI()"
   ]
  },
  {
   "cell_type": "code",
   "execution_count": 28,
   "metadata": {},
   "outputs": [],
   "source": [
    "a = {\n",
    "    \"section_name\": \"self-check-questions\",\n",
    "    \"section_text\": \"Question: \\n10. \\n\\nMany financial analysts and economists eagerly await the press releases for the reports on the home price index and consumer confidence index. What would be the effects of a negative report on both of these? What about a positive report?\\n\\n Answer: 10. \\n\\nA negative report on home prices would make consumers feel like the value of their homes, which for most Americans is a major portion of their wealth, has declined. A negative report on consumer confidence would make consumers feel pessimistic about the future. Both of these would likely reduce consumer spending, shifting AD to the left, reducing GDP and the price level. A positive report on the home price index or consumer confidence would do the opposite.\\n\\n\",\n",
    "    \"chapter_name\": \"11-self-check-questions\",\n",
    "    \"textbook_name\": \"principles-macroeconomics-3e\",\n",
    "    \"chapter_url\": \"https://openstax.org/books/principles-macroeconomics-3e/pages/11-self-check-questions\",\n",
    "    \"question\": \"\\n10. \\n\\nMany financial analysts and economists eagerly await the press releases for the reports on the home price index and consumer confidence index. What would be the effects of a negative report on both of these? What about a positive report?\\n\\n\",\n",
    "    \"answer\": \"10. \\n\\nA negative report on home prices would make consumers feel like the value of their homes, which for most Americans is a major portion of their wealth, has declined. A negative report on consumer confidence would make consumers feel pessimistic about the future. Both of these would likely reduce consumer spending, shifting AD to the left, reducing GDP and the price level. A positive report on the home price index or consumer confidence would do the opposite.\\n\\n\"\n",
    "}"
   ]
  },
  {
   "cell_type": "code",
   "execution_count": 31,
   "metadata": {},
   "outputs": [],
   "source": [
    "prompt = f\"\"\"\n",
    "Question: {a['question']}\n",
    "Gold Answer: {a['answer']}\n",
    "Analyze the question and answer, and find three important key points or concepts which is critical to this question and answer.\n",
    "Based on the three key points, provide three incorrect answer choices that might confuse a student.\n",
    "For each incorrect choice, only change one key point, and keep other parts unchanged.\n",
    "Give reasoning for each incorrect choice. Think it step by step. \"\n",
    "Return a JSON object in this exact format:\n",
    "        {{\n",
    "            \"Analysis\": \"Analysis of the question, answer, and the three key points\",\n",
    "            \"question\": \"string\",\n",
    "            \"choice\": {{\n",
    "                \"gold_choice\": {{\"reason\": \"string\",\"answer\": \"string\"}},\n",
    "                \"incorrect_choice_1\": {{\"reason\": \"string, mention which key point is changed\",\"answer\": \"string\"}},\n",
    "                \"incorrect_choice_2\": {{\"reason\": \"string, mention which key point is changed\",\"answer\": \"string\"}},\n",
    "                \"incorrect_choice_3\": {{\"reason\": \"string, mention which key point is changed\",\"answer\": \"string\"}},\n",
    "            }}\n",
    "        }}\n",
    "\"\"\"\n",
    "temperature = 0.0\n",
    "\n",
    "response = client.chat.completions.create(\n",
    "            model=\"gpt-4o-mini\",\n",
    "            messages=[\n",
    "                {\"role\": \"system\", \"content\": \"You are a knowledgeable teacher creating a multiple-choice question. Your task is to make the question challenging by generating three incorrect answer choices that might confuse a student.\"},\n",
    "                {\"role\": \"user\", \"content\": prompt}\n",
    "            ],\n",
    "            temperature=temperature,\n",
    "            response_format={\"type\": \"json_object\"}\n",
    "        )\n",
    "\n",
    "gpt_answer = response.choices[0].message.content\n"
   ]
  },
  {
   "cell_type": "code",
   "execution_count": 32,
   "metadata": {},
   "outputs": [
    {
     "name": "stdout",
     "output_type": "stream",
     "text": [
      "{\n",
      "    \"Analysis\": \"The question revolves around the impact of reports on the home price index and consumer confidence index on consumer behavior and the economy. The three key points are: 1) A negative home price report decreases consumer wealth perception, 2) A negative consumer confidence report leads to pessimism about the future, and 3) Both negative reports reduce consumer spending, shifting aggregate demand (AD) to the left, which decreases GDP and the price level. Understanding these relationships is crucial for analyzing economic indicators.\",\n",
      "    \"question\": \"What would be the effects of a negative report on both the home price index and consumer confidence index?\",\n",
      "    \"choice\": {\n",
      "        \"gold_choice\": {\"reason\": \"This choice accurately reflects the negative impacts of both reports on consumer behavior and the economy.\",\"answer\": \"A negative report on home prices would make consumers feel like the value of their homes has declined. A negative report on consumer confidence would make consumers feel pessimistic about the future. Both would likely reduce consumer spending, shifting AD to the left, reducing GDP and the price level.\"},\n",
      "        \"incorrect_choice_1\": {\"reason\": \"This choice incorrectly states that a negative home price report increases consumer wealth perception, which contradicts the first key point.\",\"answer\": \"A negative report on home prices would make consumers feel like the value of their homes has increased. A negative report on consumer confidence would make consumers feel pessimistic about the future. Both would likely reduce consumer spending, shifting AD to the left, reducing GDP and the price level.\"},\n",
      "        \"incorrect_choice_2\": {\"reason\": \"This choice incorrectly states that a negative consumer confidence report leads to optimism about the future, which contradicts the second key point.\",\"answer\": \"A negative report on home prices would make consumers feel like the value of their homes has declined. A negative report on consumer confidence would make consumers feel optimistic about the future. Both would likely reduce consumer spending, shifting AD to the left, reducing GDP and the price level.\"},\n",
      "        \"incorrect_choice_3\": {\"reason\": \"This choice incorrectly states that both negative reports would increase consumer spending, which contradicts the third key point.\",\"answer\": \"A negative report on home prices would make consumers feel like the value of their homes has declined. A negative report on consumer confidence would make consumers feel pessimistic about the future. Both would likely increase consumer spending, shifting AD to the right, increasing GDP and the price level.\"}\n",
      "    }\n",
      "}\n"
     ]
    }
   ],
   "source": [
    "print(gpt_answer)"
   ]
  },
  {
   "cell_type": "code",
   "execution_count": 14,
   "metadata": {},
   "outputs": [],
   "source": [
    "system_prompt_1 = \"\"\"\n",
    "You are a helpful assistant that can answer questions and help with tasks.\n",
    "\"\"\"\n",
    "prompt_1 = f\"\"\"\n",
    "Question: {a['question']}\n",
    "Please break down the question into smaller parts. \n",
    "And replace one part at a time, and then merge them(other parts unchanged) into a new questions that different from the original question.\n",
    "\"\"\"\n",
    "temperature = 0.0\n",
    "\n",
    "response_1 = client.chat.completions.create(\n",
    "            model=\"gpt-4o-mini\",\n",
    "            messages=[\n",
    "                {\"role\": \"system\", \"content\": system_prompt_1},\n",
    "                {\"role\": \"user\", \"content\": prompt_1}\n",
    "            ],\n",
    "            temperature=temperature,\n",
    "            # response_format={\"type\": \"json_object\"}\n",
    "        )\n",
    "\n",
    "gpt_answer_1 = response_1.choices[0].message.content\n"
   ]
  },
  {
   "cell_type": "code",
   "execution_count": 18,
   "metadata": {},
   "outputs": [
    {
     "name": "stdout",
     "output_type": "stream",
     "text": [
      "\n",
      "2. \n",
      "\n",
      "Identify whether the market supply curve will shift right or left or will stay the same for the following:\n",
      "Firms in an industry are required to pay a fine for their carbon dioxide emissions.\n",
      "Companies are sued for polluting the water in a river.\n",
      "Power plants in a specific city are not required to address the impact of their air quality emissions. \n",
      "Companies that use fracking to remove oil and gas from rock are required to clean up the damage.\n",
      "\n",
      "\n",
      "\n",
      "2. \n",
      "\n",
      "\n",
      "supply shifts left\n",
      "supply shifts left\n",
      " supply stays the same\n",
      "supply shifts left\n",
      "\n",
      "\n",
      "\n",
      "--------------------------------\n",
      "Sure! Let's break down the original question into smaller parts and then replace one part at a time to create new questions.\n",
      "\n",
      "### Original Parts:\n",
      "1. Firms in an industry are required to pay a fine for their carbon dioxide emissions.\n",
      "2. Companies are sued for polluting the water in a river.\n",
      "3. Power plants in a specific city are not required to address the impact of their air quality emissions.\n",
      "4. Companies that use fracking to remove oil and gas from rock are required to clean up the damage.\n",
      "\n",
      "### New Questions:\n",
      "#### Question 1:\n",
      "Identify whether the market supply curve will shift right or left or will stay the same for the following:\n",
      "1. Companies are required to pay a fine for their carbon dioxide emissions.\n",
      "2. Companies are sued for polluting the water in a river.\n",
      "3. Power plants in a specific city are not required to address the impact of their air quality emissions.\n",
      "4. Companies that use fracking to remove oil and gas from rock are required to pay a fee for environmental restoration.\n",
      "\n",
      "#### Question 2:\n",
      "Identify whether the market supply curve will shift right or left or will stay the same for the following:\n",
      "1. Firms in an industry are required to pay a fine for their carbon dioxide emissions.\n",
      "2. Companies are required to pay damages for polluting the water in a river.\n",
      "3. Power plants in a specific city are not required to address the impact of their air quality emissions.\n",
      "4. Companies that use fracking to remove oil and gas from rock are required to clean up the damage.\n",
      "\n",
      "#### Question 3:\n",
      "Identify whether the market supply curve will shift right or left or will stay the same for the following:\n",
      "1. Firms in an industry are required to pay a fine for their carbon dioxide emissions.\n",
      "2. Companies are sued for polluting the water in a river.\n",
      "3. Power plants in a specific city are mandated to improve their air quality emissions.\n",
      "4. Companies that use fracking to remove oil and gas from rock are required to clean up the damage.\n",
      "\n",
      "#### Question 4:\n",
      "Identify whether the market supply curve will shift right or left or will stay the same for the following:\n",
      "1. Firms in an industry are required to pay a fine for their carbon dioxide emissions.\n",
      "2. Companies are sued for polluting the water in a river.\n",
      "3. Power plants in a specific city are not required to address the impact of their air quality emissions.\n",
      "4. Companies that use fracking to remove oil and gas from rock are incentivized to implement better environmental practices.\n",
      "\n",
      "### Merged New Questions:\n",
      "1. Identify whether the market supply curve will shift right or left or will stay the same for the following:\n",
      "   - Companies are required to pay a fine for their carbon dioxide emissions.\n",
      "   - Companies are sued for polluting the water in a river.\n",
      "   - Power plants in a specific city are not required to address the impact of their air quality emissions.\n",
      "   - Companies that use fracking to remove oil and gas from rock are required to pay a fee for environmental restoration.\n",
      "\n",
      "2. Identify whether the market supply curve will shift right or left or will stay the same for the following:\n",
      "   - Firms in an industry are required to pay a fine for their carbon dioxide emissions.\n",
      "   - Companies are required to pay damages for polluting the water in a river.\n",
      "   - Power plants in a specific city are not required to address the impact of their air quality emissions.\n",
      "   - Companies that use fracking to remove oil and gas from rock are required to clean up the damage.\n",
      "\n",
      "3. Identify whether the market supply curve will shift right or left or will stay the same for the following:\n",
      "   - Firms in an industry are required to pay a fine for their carbon dioxide emissions.\n",
      "   - Companies are sued for polluting the water in a river.\n",
      "   - Power plants in a specific city are mandated to improve their air quality emissions.\n",
      "   - Companies that use fracking to remove oil and gas from rock are required to clean up the damage.\n",
      "\n",
      "4. Identify whether the market supply curve will shift right or left or will stay the same for the following:\n",
      "   - Firms in an industry are required to pay a fine for their carbon dioxide emissions.\n",
      "   - Companies are sued for polluting the water in a river.\n",
      "   - Power plants in a specific city are not required to address the impact of their air quality emissions.\n",
      "   - Companies that use fracking to remove oil and gas from rock are incentivized to implement better environmental practices.\n"
     ]
    }
   ],
   "source": [
    "print(a['question'])\n",
    "print(a['answer'])\n",
    "print(\"--------------------------------\")\n",
    "print(gpt_answer_1)\n"
   ]
  },
  {
   "cell_type": "code",
   "execution_count": null,
   "metadata": {},
   "outputs": [],
   "source": []
  },
  {
   "cell_type": "markdown",
   "metadata": {},
   "source": [
    "## Key terms"
   ]
  },
  {
   "cell_type": "code",
   "execution_count": null,
   "metadata": {},
   "outputs": [],
   "source": []
  }
 ],
 "metadata": {
  "kernelspec": {
   "display_name": "FSIL",
   "language": "python",
   "name": "python3"
  },
  "language_info": {
   "codemirror_mode": {
    "name": "ipython",
    "version": 3
   },
   "file_extension": ".py",
   "mimetype": "text/x-python",
   "name": "python",
   "nbconvert_exporter": "python",
   "pygments_lexer": "ipython3",
   "version": "3.9.19"
  }
 },
 "nbformat": 4,
 "nbformat_minor": 2
}
