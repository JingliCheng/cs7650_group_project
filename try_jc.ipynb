{
 "cells": [
  {
   "cell_type": "code",
   "execution_count": 3,
   "metadata": {},
   "outputs": [],
   "source": [
    "import json\n",
    "import os\n",
    "import openai\n",
    "client = openai.OpenAI()"
   ]
  },
  {
   "cell_type": "code",
   "execution_count": 28,
   "metadata": {},
   "outputs": [],
   "source": [
    "a = {\n",
    "    \"section_name\": \"self-check-questions\",\n",
    "    \"section_text\": \"Question: \\n10. \\n\\nMany financial analysts and economists eagerly await the press releases for the reports on the home price index and consumer confidence index. What would be the effects of a negative report on both of these? What about a positive report?\\n\\n Answer: 10. \\n\\nA negative report on home prices would make consumers feel like the value of their homes, which for most Americans is a major portion of their wealth, has declined. A negative report on consumer confidence would make consumers feel pessimistic about the future. Both of these would likely reduce consumer spending, shifting AD to the left, reducing GDP and the price level. A positive report on the home price index or consumer confidence would do the opposite.\\n\\n\",\n",
    "    \"chapter_name\": \"11-self-check-questions\",\n",
    "    \"textbook_name\": \"principles-macroeconomics-3e\",\n",
    "    \"chapter_url\": \"https://openstax.org/books/principles-macroeconomics-3e/pages/11-self-check-questions\",\n",
    "    \"question\": \"\\n10. \\n\\nMany financial analysts and economists eagerly await the press releases for the reports on the home price index and consumer confidence index. What would be the effects of a negative report on both of these? What about a positive report?\\n\\n\",\n",
    "    \"answer\": \"10. \\n\\nA negative report on home prices would make consumers feel like the value of their homes, which for most Americans is a major portion of their wealth, has declined. A negative report on consumer confidence would make consumers feel pessimistic about the future. Both of these would likely reduce consumer spending, shifting AD to the left, reducing GDP and the price level. A positive report on the home price index or consumer confidence would do the opposite.\\n\\n\"\n",
    "}"
   ]
  },
  {
   "cell_type": "code",
   "execution_count": 4,
   "metadata": {},
   "outputs": [],
   "source": [
    "econ_data = json.load(open('openstax_scraper/output_econ.json'))\n",
    "\n",
    "# {'self-check-questions', 'keyterms', 'keyconceptsandsummary'}"
   ]
  },
  {
   "cell_type": "code",
   "execution_count": 13,
   "metadata": {},
   "outputs": [
    {
     "name": "stdout",
     "output_type": "stream",
     "text": [
      "724\n",
      "75\n",
      "75\n"
     ]
    }
   ],
   "source": [
    "self_check_questions = []\n",
    "keyterms = []\n",
    "keyconceptsandsummary = []\n",
    "\n",
    "for item in econ_data:\n",
    "    if item['section_name'] == 'self-check-questions':\n",
    "        self_check_questions.append(item)\n",
    "    elif item['section_name'] == 'keyterms':\n",
    "        keyterms.append(item)\n",
    "    elif item['section_name'] == 'keyconceptsandsummary':\n",
    "        keyconceptsandsummary.append(item)\n",
    "\n",
    "print(len(self_check_questions))\n",
    "print(len(keyterms))\n",
    "print(len(keyconceptsandsummary))\n"
   ]
  },
  {
   "cell_type": "code",
   "execution_count": 16,
   "metadata": {},
   "outputs": [],
   "source": [
    "current_question = self_check_questions[0]"
   ]
  },
  {
   "cell_type": "code",
   "execution_count": 27,
   "metadata": {},
   "outputs": [],
   "source": [
    "current_answer = {\n",
    "    \"section_name\": \"self-check-questions\",\n",
    "    \"section_text\": \"Question: \\n2. \\n\\n  What are the drawbacks to analyzing the global economy on a regional basis?\\n  \\n Answer: 2. \\n\\n  A region can have some of high-income countries and some of the low-income countries. Aggregating per capita real GDP will vary widely across countries within a region, so aggregating data for a region has little meaning. For example, if you were to compare per capital real GDP for the United States, Canada, Haiti, and Honduras, it looks much different than if you looked at the same data for North America as a whole. Thus, regional comparisons are broad-based and may not adequately capture an individual country’s economic attributes.\\n  \\n\",\n",
    "    \"chapter_name\": \"32-self-check-questions\",\n",
    "    \"textbook_name\": \"principles-economics-3e\",\n",
    "    \"chapter_url\": \"https://openstax.org/books/principles-economics-3e/pages/32-self-check-questions\",\n",
    "    \"question\": \"\\n2. \\n\\n  What are the drawbacks to analyzing the global economy on a regional basis?\\n  \\n\",\n",
    "    \"answer\": \"2. \\n\\n  A region can have some of high-income countries and some of the low-income countries. Aggregating per capita real GDP will vary widely across countries within a region, so aggregating data for a region has little meaning. For example, if you were to compare per capital real GDP for the United States, Canada, Haiti, and Honduras, it looks much different than if you looked at the same data for North America as a whole. Thus, regional comparisons are broad-based and may not adequately capture an individual country’s economic attributes.\\n  \\n\"\n",
    "}"
   ]
  },
  {
   "cell_type": "code",
   "execution_count": 28,
   "metadata": {},
   "outputs": [],
   "source": [
    "prompt = f\"\"\"\n",
    "Question: {current_answer['question']}\n",
    "Gold Answer: {current_answer['answer']}\n",
    "Analyze the question and answer, and find three important key points or concepts which is critical to this question and answer.\n",
    "Based on the three key points, provide three incorrect answer choices that very likely confuse a student.\n",
    "For each incorrect choice, only change one key point, and keep other parts unchanged.\n",
    "Give reasoning for each incorrect choice. Think it step by step. \"\n",
    "Return a JSON object in this exact format:\n",
    "        {{\n",
    "            \"Analysis\": \"Analysis of the question, answer, and the three key points\",\n",
    "            \"question\": \"string\",\n",
    "            \"choice\": {{\n",
    "                \"gold_choice\": {{\"reason\": \"string\",\"answer\": \"string\"}},\n",
    "                \"incorrect_choice_1\": {{\"reason\": \"string, mention which key point is changed\",\"answer\": \"string\"}},\n",
    "                \"incorrect_choice_2\": {{\"reason\": \"string, mention which key point is changed\",\"answer\": \"string\"}},\n",
    "                \"incorrect_choice_3\": {{\"reason\": \"string, mention which key point is changed\",\"answer\": \"string\"}},\n",
    "            }}\n",
    "        }}\n",
    "\"\"\"\n",
    "temperature = 0.0\n",
    "\n",
    "response = client.chat.completions.create(\n",
    "            model=\"gpt-4o-mini\",\n",
    "            messages=[\n",
    "                {\"role\": \"system\", \"content\": \"You are a knowledgeable teacher creating a multiple-choice question. Your task is to make the question challenging by generating three incorrect answer choices that might confuse a student.\"},\n",
    "                {\"role\": \"user\", \"content\": prompt}\n",
    "            ],\n",
    "            temperature=temperature,\n",
    "            response_format={\"type\": \"json_object\"}\n",
    "        )\n",
    "\n",
    "gpt_answer = response.choices[0].message.content\n"
   ]
  },
  {
   "cell_type": "code",
   "execution_count": 23,
   "metadata": {},
   "outputs": [],
   "source": [
    "prompt = f\"\"\"\n",
    "You are a knowledgeable teacher creating a challenging multiple-choice question with carefully crafted incorrect answers.\n",
    "\n",
    "Step 1: Analyze the question and correct answer. Identify three critical concepts or key points essential for understanding and solving this question. These points will be used to generate incorrect answers.\n",
    "\n",
    "Step 2: Based on these three key points, create three incorrect answer choices with the following requirements:\n",
    "- Each incorrect choice should modify only **one** key point while keeping other parts consistent with the correct answer.\n",
    "- Each incorrect answer should appear plausible to students who might misunderstand that particular key point.\n",
    "\n",
    "For each incorrect answer, provide:\n",
    "- The key point being modified.\n",
    "- The incorrect answer choice.\n",
    "- Reasoning to explain how the change in the key point could mislead students.\n",
    "\n",
    "Return your output as a structured JSON object in the following format:\n",
    "\n",
    "{{\n",
    "    \"Analysis\": \"Provide a thorough analysis of the question, the correct answer, and the three identified key points.\",\n",
    "    \"question\": \"{current_answer['question']}\",\n",
    "    \"choices\": {{\n",
    "        \"gold_choice\": {{\n",
    "            \"reason\": \"Explanation of why this is the correct answer\",\n",
    "            \"answer\": \"{current_answer['answer']}\"\n",
    "        }},\n",
    "        \"incorrect_choices\": [\n",
    "            {{\n",
    "                \"key_point_changed\": \"Description of key point 1 being modified\",\n",
    "                \"reason\": \"Explanation of why this incorrect answer is misleading and based on altering key point 1.\",\n",
    "                \"answer\": \"Incorrect answer 1\"\n",
    "            }},\n",
    "            {{\n",
    "                \"key_point_changed\": \"Description of key point 2 being modified\",\n",
    "                \"reason\": \"Explanation of why this incorrect answer is misleading and based on altering key point 2.\",\n",
    "                \"answer\": \"Incorrect answer 2\"\n",
    "            }},\n",
    "            {{\n",
    "                \"key_point_changed\": \"Description of key point 3 being modified\",\n",
    "                \"reason\": \"Explanation of why this incorrect answer is misleading and based on altering key point 3.\",\n",
    "                \"answer\": \"Incorrect answer 3\"\n",
    "            }}\n",
    "        ]\n",
    "    }}\n",
    "}}\n",
    "\"\"\"\n",
    "\n",
    "# API call for the structured response\n",
    "response = client.chat.completions.create(\n",
    "    model=\"gpt-4o-mini\",\n",
    "    messages=[\n",
    "        {\"role\": \"system\", \"content\": \"You are a knowledgeable teacher creating challenging multiple-choice questions with thoughtfully crafted incorrect answers.\"},\n",
    "        {\"role\": \"user\", \"content\": prompt}\n",
    "    ],\n",
    "    temperature=0.0,\n",
    "    response_format={\"type\": \"json_object\"}\n",
    ")\n",
    "\n",
    "gpt_answer = response.choices[0].message.content"
   ]
  },
  {
   "cell_type": "code",
   "execution_count": 29,
   "metadata": {},
   "outputs": [
    {
     "name": "stdout",
     "output_type": "stream",
     "text": [
      "{\n",
      "    \"Analysis\": \"The question addresses the drawbacks of analyzing the global economy on a regional basis. The gold answer highlights three key points: 1) the presence of both high-income and low-income countries within a region, 2) the variability of per capita real GDP across countries, and 3) the inadequacy of broad regional comparisons to capture individual country economic attributes. These points emphasize the complexity and limitations of regional economic analysis.\",\n",
      "    \"question\": \"What are the drawbacks to analyzing the global economy on a regional basis?\",\n",
      "    \"choice\": {\n",
      "        \"gold_choice\": {\"reason\": \"This choice accurately reflects the complexities of regional economic analysis, including income disparities and the limitations of aggregated data.\",\"answer\": \"A region can have some high-income countries and some low-income countries. Aggregating per capita real GDP will vary widely across countries within a region, so aggregating data for a region has little meaning. For example, if you were to compare per capita real GDP for the United States, Canada, Haiti, and Honduras, it looks much different than if you looked at the same data for North America as a whole. Thus, regional comparisons are broad-based and may not adequately capture an individual country’s economic attributes.\"},\n",
      "        \"incorrect_choice_1\": {\"reason\": \"This choice changes the key point about the presence of both high-income and low-income countries, suggesting that regions are homogenous in income levels.\",\"answer\": \"A region can have only high-income countries. Aggregating per capita real GDP will vary widely across countries within a region, so aggregating data for a region has little meaning. For example, if you were to compare per capita real GDP for the United States, Canada, Haiti, and Honduras, it looks much different than if you looked at the same data for North America as a whole. Thus, regional comparisons are broad-based and may not adequately capture an individual country’s economic attributes.\"},\n",
      "        \"incorrect_choice_2\": {\"reason\": \"This choice alters the key point about the variability of per capita real GDP, implying that it is consistent across countries within a region.\",\"answer\": \"A region can have some high-income countries and some low-income countries. Aggregating per capita real GDP will be consistent across countries within a region, so aggregating data for a region has little meaning. For example, if you were to compare per capita real GDP for the United States, Canada, Haiti, and Honduras, it looks much different than if you looked at the same data for North America as a whole. Thus, regional comparisons are broad-based and may not adequately capture an individual country’s economic attributes.\"},\n",
      "        \"incorrect_choice_3\": {\"reason\": \"This choice modifies the key point about the inadequacy of broad regional comparisons, suggesting that they can effectively capture individual country attributes.\",\"answer\": \"A region can have some high-income countries and some low-income countries. Aggregating per capita real GDP will vary widely across countries within a region, so aggregating data for a region has little meaning. For example, if you were to compare per capita real GDP for the United States, Canada, Haiti, and Honduras, it looks much different than if you looked at the same data for North America as a whole. Thus, regional comparisons are effective and may adequately capture an individual country’s economic attributes.\"}\n",
      "    }\n",
      "}\n"
     ]
    }
   ],
   "source": [
    "print(gpt_answer)\n",
    "\n",
    "data = json.loads(gpt_answer)\n"
   ]
  },
  {
   "cell_type": "code",
   "execution_count": 26,
   "metadata": {},
   "outputs": [
    {
     "name": "stdout",
     "output_type": "stream",
     "text": [
      "Question: What are the drawbacks to analyzing the global economy on a regional basis?\n",
      "Correct Answer: A region can have some high-income countries and some low-income countries. Aggregating per capita real GDP will vary widely across countries within a region, so aggregating data for a region has little meaning. For example, if you were to compare per capita real GDP for the United States, Canada, Haiti, and Honduras, it looks much different than if you looked at the same data for North America as a whole. Thus, regional comparisons are broad-based and may not adequately capture an individual country’s economic attributes.\n",
      "Incorrect Answers:\n",
      "incorrect_choice_1: A region typically consists of countries with similar income levels, making regional analysis a reliable method for understanding economic conditions.\n",
      "incorrect_choice_2: Aggregating per capita real GDP for a region provides a clear picture of the economic status of that region, as it smooths out individual country discrepancies.\n",
      "incorrect_choice_3: Focusing on regional data is sufficient for understanding economic attributes, as individual country analysis often complicates the overall picture.\n"
     ]
    }
   ],
   "source": [
    "question = data[\"question\"]\n",
    "correct_answer = data[\"choices\"][\"gold_choice\"][\"answer\"]\n",
    "incorrect_answers = [{\"label\": f\"incorrect_choice_{i+1}\", \"answer\": choice[\"answer\"]}\n",
    "                     for i, choice in enumerate(data[\"choices\"][\"incorrect_choices\"])]\n",
    "\n",
    "# Display results\n",
    "print(\"Question:\", question)\n",
    "print(\"Correct Answer:\", correct_answer)\n",
    "print(\"Incorrect Answers:\")\n",
    "for answer in incorrect_answers:\n",
    "    print(answer[\"label\"] + \":\", answer[\"answer\"])\n"
   ]
  },
  {
   "cell_type": "code",
   "execution_count": 14,
   "metadata": {},
   "outputs": [],
   "source": [
    "system_prompt_1 = \"\"\"\n",
    "You are a helpful assistant that can answer questions and help with tasks.\n",
    "\"\"\"\n",
    "prompt_1 = f\"\"\"\n",
    "Question: {a['question']}\n",
    "Please break down the question into smaller parts. \n",
    "And replace one part at a time, and then merge them(other parts unchanged) into a new questions that different from the original question.\n",
    "\"\"\"\n",
    "temperature = 0.0\n",
    "\n",
    "response_1 = client.chat.completions.create(\n",
    "            model=\"gpt-4o-mini\",\n",
    "            messages=[\n",
    "                {\"role\": \"system\", \"content\": system_prompt_1},\n",
    "                {\"role\": \"user\", \"content\": prompt_1}\n",
    "            ],\n",
    "            temperature=temperature,\n",
    "            # response_format={\"type\": \"json_object\"}\n",
    "        )\n",
    "\n",
    "gpt_answer_1 = response_1.choices[0].message.content\n"
   ]
  },
  {
   "cell_type": "code",
   "execution_count": 18,
   "metadata": {},
   "outputs": [
    {
     "name": "stdout",
     "output_type": "stream",
     "text": [
      "\n",
      "2. \n",
      "\n",
      "Identify whether the market supply curve will shift right or left or will stay the same for the following:\n",
      "Firms in an industry are required to pay a fine for their carbon dioxide emissions.\n",
      "Companies are sued for polluting the water in a river.\n",
      "Power plants in a specific city are not required to address the impact of their air quality emissions. \n",
      "Companies that use fracking to remove oil and gas from rock are required to clean up the damage.\n",
      "\n",
      "\n",
      "\n",
      "2. \n",
      "\n",
      "\n",
      "supply shifts left\n",
      "supply shifts left\n",
      " supply stays the same\n",
      "supply shifts left\n",
      "\n",
      "\n",
      "\n",
      "--------------------------------\n",
      "Sure! Let's break down the original question into smaller parts and then replace one part at a time to create new questions.\n",
      "\n",
      "### Original Parts:\n",
      "1. Firms in an industry are required to pay a fine for their carbon dioxide emissions.\n",
      "2. Companies are sued for polluting the water in a river.\n",
      "3. Power plants in a specific city are not required to address the impact of their air quality emissions.\n",
      "4. Companies that use fracking to remove oil and gas from rock are required to clean up the damage.\n",
      "\n",
      "### New Questions:\n",
      "#### Question 1:\n",
      "Identify whether the market supply curve will shift right or left or will stay the same for the following:\n",
      "1. Companies are required to pay a fine for their carbon dioxide emissions.\n",
      "2. Companies are sued for polluting the water in a river.\n",
      "3. Power plants in a specific city are not required to address the impact of their air quality emissions.\n",
      "4. Companies that use fracking to remove oil and gas from rock are required to pay a fee for environmental restoration.\n",
      "\n",
      "#### Question 2:\n",
      "Identify whether the market supply curve will shift right or left or will stay the same for the following:\n",
      "1. Firms in an industry are required to pay a fine for their carbon dioxide emissions.\n",
      "2. Companies are required to pay damages for polluting the water in a river.\n",
      "3. Power plants in a specific city are not required to address the impact of their air quality emissions.\n",
      "4. Companies that use fracking to remove oil and gas from rock are required to clean up the damage.\n",
      "\n",
      "#### Question 3:\n",
      "Identify whether the market supply curve will shift right or left or will stay the same for the following:\n",
      "1. Firms in an industry are required to pay a fine for their carbon dioxide emissions.\n",
      "2. Companies are sued for polluting the water in a river.\n",
      "3. Power plants in a specific city are mandated to improve their air quality emissions.\n",
      "4. Companies that use fracking to remove oil and gas from rock are required to clean up the damage.\n",
      "\n",
      "#### Question 4:\n",
      "Identify whether the market supply curve will shift right or left or will stay the same for the following:\n",
      "1. Firms in an industry are required to pay a fine for their carbon dioxide emissions.\n",
      "2. Companies are sued for polluting the water in a river.\n",
      "3. Power plants in a specific city are not required to address the impact of their air quality emissions.\n",
      "4. Companies that use fracking to remove oil and gas from rock are incentivized to implement better environmental practices.\n",
      "\n",
      "### Merged New Questions:\n",
      "1. Identify whether the market supply curve will shift right or left or will stay the same for the following:\n",
      "   - Companies are required to pay a fine for their carbon dioxide emissions.\n",
      "   - Companies are sued for polluting the water in a river.\n",
      "   - Power plants in a specific city are not required to address the impact of their air quality emissions.\n",
      "   - Companies that use fracking to remove oil and gas from rock are required to pay a fee for environmental restoration.\n",
      "\n",
      "2. Identify whether the market supply curve will shift right or left or will stay the same for the following:\n",
      "   - Firms in an industry are required to pay a fine for their carbon dioxide emissions.\n",
      "   - Companies are required to pay damages for polluting the water in a river.\n",
      "   - Power plants in a specific city are not required to address the impact of their air quality emissions.\n",
      "   - Companies that use fracking to remove oil and gas from rock are required to clean up the damage.\n",
      "\n",
      "3. Identify whether the market supply curve will shift right or left or will stay the same for the following:\n",
      "   - Firms in an industry are required to pay a fine for their carbon dioxide emissions.\n",
      "   - Companies are sued for polluting the water in a river.\n",
      "   - Power plants in a specific city are mandated to improve their air quality emissions.\n",
      "   - Companies that use fracking to remove oil and gas from rock are required to clean up the damage.\n",
      "\n",
      "4. Identify whether the market supply curve will shift right or left or will stay the same for the following:\n",
      "   - Firms in an industry are required to pay a fine for their carbon dioxide emissions.\n",
      "   - Companies are sued for polluting the water in a river.\n",
      "   - Power plants in a specific city are not required to address the impact of their air quality emissions.\n",
      "   - Companies that use fracking to remove oil and gas from rock are incentivized to implement better environmental practices.\n"
     ]
    }
   ],
   "source": [
    "print(a['question'])\n",
    "print(a['answer'])\n",
    "print(\"--------------------------------\")\n",
    "print(gpt_answer_1)\n"
   ]
  },
  {
   "cell_type": "code",
   "execution_count": null,
   "metadata": {},
   "outputs": [],
   "source": []
  },
  {
   "cell_type": "markdown",
   "metadata": {},
   "source": [
    "## Key terms"
   ]
  },
  {
   "cell_type": "code",
   "execution_count": null,
   "metadata": {},
   "outputs": [],
   "source": []
  }
 ],
 "metadata": {
  "kernelspec": {
   "display_name": "FSIL",
   "language": "python",
   "name": "python3"
  },
  "language_info": {
   "codemirror_mode": {
    "name": "ipython",
    "version": 3
   },
   "file_extension": ".py",
   "mimetype": "text/x-python",
   "name": "python",
   "nbconvert_exporter": "python",
   "pygments_lexer": "ipython3",
   "version": "3.11.9"
  }
 },
 "nbformat": 4,
 "nbformat_minor": 2
}
