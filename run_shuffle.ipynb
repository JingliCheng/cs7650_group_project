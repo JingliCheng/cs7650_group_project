{
 "cells": [
  {
   "cell_type": "code",
   "execution_count": 1,
   "metadata": {},
   "outputs": [],
   "source": [
    "%load_ext autoreload\n",
    "%autoreload 2"
   ]
  },
  {
   "cell_type": "code",
   "execution_count": 2,
   "metadata": {},
   "outputs": [],
   "source": [
    "import random\n",
    "import json\n",
    "from KPDistorter import kpdistorter\n",
    "from tqdm import tqdm\n",
    "\n",
    "\n",
    "GENERATED_QA_PATH = 'generated_QA_pairs_econ.json'\n",
    "SHUFFLED_QA_PATH = 'shuffled_QA_pairs_econ.json'\n",
    "choice_json = json.load(open(GENERATED_QA_PATH))\n",
    "random.seed(42)"
   ]
  },
  {
   "cell_type": "code",
   "execution_count": 3,
   "metadata": {},
   "outputs": [
    {
     "name": "stderr",
     "output_type": "stream",
     "text": [
      "100%|██████████| 12/12 [00:00<?, ?it/s]\n"
     ]
    }
   ],
   "source": [
    "for one_question in tqdm(choice_json):\n",
    "    new_suffle_answer_list, new_index = kpdistorter.shuffle_and_track(one_question['choices'])\n",
    "    output = one_question['question'] + '\\n'\n",
    "    for i, ans in enumerate(new_suffle_answer_list):\n",
    "        char = 'ABCD'[i]\n",
    "        output += f'{char}: {new_suffle_answer_list[i]}\\n'\n",
    "    one_question['mcq'] = output\n",
    "    one_question['correct_answer'] = new_index\n",
    "\n",
    "json.dump(choice_json, open(SHUFFLED_QA_PATH, 'w'))\n"
   ]
  },
  {
   "cell_type": "code",
   "execution_count": null,
   "metadata": {},
   "outputs": [],
   "source": []
  }
 ],
 "metadata": {
  "kernelspec": {
   "display_name": "FSIL",
   "language": "python",
   "name": "python3"
  },
  "language_info": {
   "codemirror_mode": {
    "name": "ipython",
    "version": 3
   },
   "file_extension": ".py",
   "mimetype": "text/x-python",
   "name": "python",
   "nbconvert_exporter": "python",
   "pygments_lexer": "ipython3",
   "version": "3.9.19"
  }
 },
 "nbformat": 4,
 "nbformat_minor": 2
}
