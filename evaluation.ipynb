{
 "cells": [
  {
   "cell_type": "code",
   "execution_count": 4,
   "metadata": {},
   "outputs": [],
   "source": [
    "import json\n",
    "import os\n",
    "import openai\n",
    "from dotenv import load_dotenv"
   ]
  },
  {
   "cell_type": "code",
   "execution_count": 5,
   "metadata": {},
   "outputs": [],
   "source": [
    "# Read QA questions from the json file\n",
    "with open('shuffled_QA_pairs_econ_part2.json') as f:\n",
    "    data = json.load(f)\n",
    "\n",
    "# Load the .env file\n",
    "load_dotenv()\n",
    "client = openai.OpenAI()\n"
   ]
  },
  {
   "cell_type": "code",
   "execution_count": 14,
   "metadata": {},
   "outputs": [
    {
     "data": {
      "text/plain": [
       "['Nonexcludable goods and services include police protection and most roads, as it is challenging to prevent individuals from benefiting from these once they are provided. Public primary education also falls into this category, as it is generally accessible to all, despite the existence of private options that may be excludable. In contrast, streaming music services, cell phone service, and toll roads are excludable, as access is limited to paying customers or users.',\n",
       " 'Among the options provided, roads and public primary education are considered nonexcludable. Most roads are nonexcludable because, once constructed, it is difficult to prevent individuals from using them, although toll roads can create exceptions. Public primary education is generally nonexcludable as it is available to all children regardless of payment. In contrast, police protection is excludable since access can be limited to those who pay for private security services. Similarly, streaming music services like SiriusXM are excludable due to their subscription-based model, and cell phone service is also excludable as companies can restrict access to paying customers.',\n",
       " 'Cell phone service is nonexcludable because it is available to everyone without any payment required. Similarly, police protection is also nonexcludable, as it is difficult to exclude individuals from benefiting from it once provided. Most roads are considered nonexcludable since, once built, it is challenging to prevent people from using them, although toll roads can create exceptions. Primary education is generally nonexcludable in the public sector, while private education can be excludable. In contrast, streaming music services like SiriusXM are typically subscription-based, making them excludable as access is restricted to paying customers.',\n",
       " 'Police protection is nonexcludable because it is challenging to prevent individuals from benefiting once it is provided. Most roads are excludable since access can be restricted through tolls or private ownership. Streaming music services, such as SiriusXM, are also excludable as they require a subscription for access. Primary education can be nonexcludable when provided publicly, but it can be excludable if offered by private entities. Cell phone service is excludable, as companies can limit access to paying customers.']"
      ]
     },
     "execution_count": 14,
     "metadata": {},
     "output_type": "execute_result"
    }
   ],
   "source": [
    "data[0]['choices']"
   ]
  },
  {
   "cell_type": "code",
   "execution_count": 42,
   "metadata": {},
   "outputs": [
    {
     "name": "stderr",
     "output_type": "stream",
     "text": [
      "Generating answers: 100%|██████████| 161/161 [04:01<00:00,  1.50s/it]\n"
     ]
    }
   ],
   "source": [
    "from tqdm import tqdm\n",
    "from collections import defaultdict\n",
    "log = defaultdict(dict)\n",
    "\n",
    "for generated_qa in tqdm(data, desc=\"Generating answers\"):\n",
    "    question = generated_qa['question']\n",
    "    correct_answer = generated_qa['correct_answer']\n",
    "    choices = generated_qa['choices']\n",
    "\n",
    "    prompt = f\"\"\"\n",
    "    Question: {question}\n",
    "    Choice 1: {choices[0]}\n",
    "    Choice 2: {choices[1]}\n",
    "    Choice 3: {choices[2]}\n",
    "    Choice 4: {choices[3]}\n",
    "    Which of the above definitions best answers the question? Give a reason for your choice first, then give your choice.\n",
    "    Reply a JSON object with the following format:\n",
    "    {{\n",
    "        \"reason\": \"string\",\n",
    "        \"choice\": \"int\",\n",
    "    }}\n",
    "    \"\"\"\n",
    "    temperature = 0.0\n",
    "\n",
    "    response = client.chat.completions.create(\n",
    "                model=\"gpt-4o\",\n",
    "                messages=[\n",
    "                    {\"role\": \"system\", \"content\": \"You are a student answering a textbook problem.\"},\n",
    "                    {\"role\": \"user\", \"content\": prompt}\n",
    "                ],\n",
    "                temperature=temperature,\n",
    "                response_format={\"type\": \"json_object\"}\n",
    "            )\n",
    "    \n",
    "    answer_json = json.loads(response.choices[0].message.content)\n",
    "\n",
    "    log[question]['reason'] = answer_json['reason']\n",
    "    log[question]['gpt_choice'] = answer_json['choice']\n",
    "    log[question]['correct_choice'] = correct_answer"
   ]
  },
  {
   "cell_type": "code",
   "execution_count": 44,
   "metadata": {},
   "outputs": [
    {
     "name": "stdout",
     "output_type": "stream",
     "text": [
      "Percentage of correct choices: 23.60%\n"
     ]
    }
   ],
   "source": [
    "correct_count = 0\n",
    "total_count = len(log)\n",
    "\n",
    "for _, answers in log.items():\n",
    "    if answers['gpt_choice'] == answers['correct_choice']:\n",
    "        correct_count += 1\n",
    "\n",
    "percentage_correct = (correct_count / total_count) * 100\n",
    "print(f\"Percentage of correct choices: {percentage_correct:.2f}%\")"
   ]
  }
 ],
 "metadata": {
  "kernelspec": {
   "display_name": "Python 3",
   "language": "python",
   "name": "python3"
  },
  "language_info": {
   "codemirror_mode": {
    "name": "ipython",
    "version": 3
   },
   "file_extension": ".py",
   "mimetype": "text/x-python",
   "name": "python",
   "nbconvert_exporter": "python",
   "pygments_lexer": "ipython3",
   "version": "3.11.5"
  }
 },
 "nbformat": 4,
 "nbformat_minor": 2
}
